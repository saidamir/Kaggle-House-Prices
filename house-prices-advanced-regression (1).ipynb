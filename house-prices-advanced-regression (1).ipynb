{
 "cells": [
  {
   "cell_type": "code",
   "execution_count": 1,
   "id": "15f74744",
   "metadata": {
    "_cell_guid": "b1076dfc-b9ad-4769-8c92-a6c4dae69d19",
    "_uuid": "8f2839f25d086af736a60e9eeb907d3b93b6e0e5",
    "execution": {
     "iopub.execute_input": "2021-11-05T14:04:50.295830Z",
     "iopub.status.busy": "2021-11-05T14:04:50.294400Z",
     "iopub.status.idle": "2021-11-05T14:04:50.307835Z",
     "shell.execute_reply": "2021-11-05T14:04:50.308722Z",
     "shell.execute_reply.started": "2021-11-05T13:32:32.045355Z"
    },
    "papermill": {
     "duration": 0.041346,
     "end_time": "2021-11-05T14:04:50.309155",
     "exception": false,
     "start_time": "2021-11-05T14:04:50.267809",
     "status": "completed"
    },
    "tags": []
   },
   "outputs": [
    {
     "name": "stdout",
     "output_type": "stream",
     "text": [
      "/kaggle/input/house-prices-advanced-regression-techniques/sample_submission.csv\n",
      "/kaggle/input/house-prices-advanced-regression-techniques/data_description.txt\n",
      "/kaggle/input/house-prices-advanced-regression-techniques/train.csv\n",
      "/kaggle/input/house-prices-advanced-regression-techniques/test.csv\n"
     ]
    }
   ],
   "source": [
    "# This Python 3 environment comes with many helpful analytics libraries installed\n",
    "# It is defined by the kaggle/python Docker image: https://github.com/kaggle/docker-python\n",
    "# For example, here's several helpful packages to load\n",
    "\n",
    "import numpy as np # linear algebra\n",
    "import pandas as pd # data processing, CSV file I/O (e.g. pd.read_csv)\n",
    "\n",
    "# Input data files are available in the read-only \"../input/\" directory\n",
    "# For example, running this (by clicking run or pressing Shift+Enter) will list all files under the input directory\n",
    "\n",
    "import os\n",
    "for dirname, _, filenames in os.walk('/kaggle/input'):\n",
    "    for filename in filenames:\n",
    "        print(os.path.join(dirname, filename))\n",
    "\n",
    "# You can write up to 20GB to the current directory (/kaggle/working/) that gets preserved as output when you create a version using \"Save & Run All\" \n",
    "# You can also write temporary files to /kaggle/temp/, but they won't be saved outside of the current session"
   ]
  },
  {
   "cell_type": "code",
   "execution_count": 2,
   "id": "c0d83e30",
   "metadata": {
    "execution": {
     "iopub.execute_input": "2021-11-05T14:04:50.351211Z",
     "iopub.status.busy": "2021-11-05T14:04:50.350623Z",
     "iopub.status.idle": "2021-11-05T14:04:51.767845Z",
     "shell.execute_reply": "2021-11-05T14:04:51.768296Z",
     "shell.execute_reply.started": "2021-11-05T13:32:32.068424Z"
    },
    "papermill": {
     "duration": 1.439617,
     "end_time": "2021-11-05T14:04:51.768555",
     "exception": false,
     "start_time": "2021-11-05T14:04:50.328938",
     "status": "completed"
    },
    "tags": []
   },
   "outputs": [],
   "source": [
    "import pandas as pd\n",
    "import numpy as np\n",
    "import math\n",
    "import warnings; warnings.simplefilter('ignore')\n",
    "import matplotlib.pyplot as plt\n",
    "import seaborn as sns\n",
    "from sklearn.linear_model import LinearRegression\n",
    "from sklearn.linear_model import LogisticRegression\n",
    "from sklearn.model_selection import train_test_split\n",
    "from sklearn.metrics import r2_score, mean_squared_error, roc_auc_score\n",
    "from sklearn.preprocessing import StandardScaler\n",
    "from sklearn.model_selection import GridSearchCV\n",
    "import plotly.graph_objects as go \n",
    "import scipy.stats as stats\n",
    "from scipy import stats\n",
    "\n",
    "from scipy.stats import mannwhitneyu, norm, t, nct, rankdata, ttest_ind"
   ]
  },
  {
   "cell_type": "code",
   "execution_count": 3,
   "id": "98f44cdc",
   "metadata": {
    "execution": {
     "iopub.execute_input": "2021-11-05T14:04:51.809828Z",
     "iopub.status.busy": "2021-11-05T14:04:51.808870Z",
     "iopub.status.idle": "2021-11-05T14:04:51.997240Z",
     "shell.execute_reply": "2021-11-05T14:04:51.997726Z",
     "shell.execute_reply.started": "2021-11-05T13:32:32.708304Z"
    },
    "papermill": {
     "duration": 0.210597,
     "end_time": "2021-11-05T14:04:51.997900",
     "exception": false,
     "start_time": "2021-11-05T14:04:51.787303",
     "status": "completed"
    },
    "tags": []
   },
   "outputs": [
    {
     "data": {
      "text/html": [
       "<style type=\"text/css\">\n",
       "#T_cba78_row0_col0, #T_cba78_row0_col1, #T_cba78_row0_col2, #T_cba78_row0_col3, #T_cba78_row0_col4, #T_cba78_row0_col5, #T_cba78_row0_col6, #T_cba78_row0_col7, #T_cba78_row0_col8, #T_cba78_row0_col9, #T_cba78_row0_col10, #T_cba78_row0_col11, #T_cba78_row0_col12, #T_cba78_row0_col13, #T_cba78_row0_col14, #T_cba78_row0_col15, #T_cba78_row0_col16, #T_cba78_row0_col17, #T_cba78_row0_col18, #T_cba78_row0_col19, #T_cba78_row0_col20, #T_cba78_row0_col21, #T_cba78_row0_col22, #T_cba78_row0_col23, #T_cba78_row0_col24, #T_cba78_row0_col25, #T_cba78_row0_col26, #T_cba78_row0_col27, #T_cba78_row0_col28, #T_cba78_row0_col29, #T_cba78_row0_col30, #T_cba78_row0_col31, #T_cba78_row0_col32, #T_cba78_row0_col33, #T_cba78_row0_col34, #T_cba78_row0_col35, #T_cba78_row0_col36, #T_cba78_row0_col37, #T_cba78_row0_col38, #T_cba78_row0_col39, #T_cba78_row0_col40, #T_cba78_row0_col41, #T_cba78_row0_col42, #T_cba78_row0_col43, #T_cba78_row0_col44, #T_cba78_row0_col45, #T_cba78_row0_col46, #T_cba78_row0_col47, #T_cba78_row0_col48, #T_cba78_row0_col49, #T_cba78_row0_col50, #T_cba78_row0_col51, #T_cba78_row0_col52, #T_cba78_row0_col53, #T_cba78_row0_col54, #T_cba78_row0_col55, #T_cba78_row0_col56, #T_cba78_row0_col57, #T_cba78_row0_col58, #T_cba78_row0_col59, #T_cba78_row0_col60, #T_cba78_row0_col61, #T_cba78_row0_col62, #T_cba78_row0_col63, #T_cba78_row0_col64, #T_cba78_row0_col65, #T_cba78_row0_col66, #T_cba78_row0_col67, #T_cba78_row0_col68, #T_cba78_row0_col69, #T_cba78_row0_col70, #T_cba78_row0_col71, #T_cba78_row0_col72, #T_cba78_row0_col73, #T_cba78_row0_col74, #T_cba78_row0_col75, #T_cba78_row0_col76, #T_cba78_row0_col77, #T_cba78_row0_col78, #T_cba78_row0_col79, #T_cba78_row0_col80, #T_cba78_row1_col0, #T_cba78_row1_col1, #T_cba78_row1_col2, #T_cba78_row1_col3, #T_cba78_row1_col4, #T_cba78_row1_col5, #T_cba78_row1_col6, #T_cba78_row1_col7, #T_cba78_row1_col8, #T_cba78_row1_col9, #T_cba78_row1_col10, #T_cba78_row1_col11, #T_cba78_row1_col12, #T_cba78_row1_col13, #T_cba78_row1_col14, #T_cba78_row1_col15, #T_cba78_row1_col16, #T_cba78_row1_col17, #T_cba78_row1_col18, #T_cba78_row1_col19, #T_cba78_row1_col20, #T_cba78_row1_col21, #T_cba78_row1_col22, #T_cba78_row1_col23, #T_cba78_row1_col24, #T_cba78_row1_col25, #T_cba78_row1_col26, #T_cba78_row1_col27, #T_cba78_row1_col28, #T_cba78_row1_col29, #T_cba78_row1_col30, #T_cba78_row1_col31, #T_cba78_row1_col32, #T_cba78_row1_col33, #T_cba78_row1_col34, #T_cba78_row1_col35, #T_cba78_row1_col36, #T_cba78_row1_col37, #T_cba78_row1_col38, #T_cba78_row1_col39, #T_cba78_row1_col40, #T_cba78_row1_col41, #T_cba78_row1_col42, #T_cba78_row1_col43, #T_cba78_row1_col44, #T_cba78_row1_col45, #T_cba78_row1_col46, #T_cba78_row1_col47, #T_cba78_row1_col48, #T_cba78_row1_col49, #T_cba78_row1_col50, #T_cba78_row1_col51, #T_cba78_row1_col52, #T_cba78_row1_col53, #T_cba78_row1_col54, #T_cba78_row1_col55, #T_cba78_row1_col56, #T_cba78_row1_col57, #T_cba78_row1_col58, #T_cba78_row1_col59, #T_cba78_row1_col60, #T_cba78_row1_col61, #T_cba78_row1_col62, #T_cba78_row1_col63, #T_cba78_row1_col64, #T_cba78_row1_col65, #T_cba78_row1_col66, #T_cba78_row1_col67, #T_cba78_row1_col68, #T_cba78_row1_col69, #T_cba78_row1_col70, #T_cba78_row1_col71, #T_cba78_row1_col72, #T_cba78_row1_col73, #T_cba78_row1_col74, #T_cba78_row1_col75, #T_cba78_row1_col76, #T_cba78_row1_col77, #T_cba78_row1_col78, #T_cba78_row1_col79, #T_cba78_row1_col80, #T_cba78_row2_col0, #T_cba78_row2_col1, #T_cba78_row2_col2, #T_cba78_row2_col3, #T_cba78_row2_col4, #T_cba78_row2_col5, #T_cba78_row2_col6, #T_cba78_row2_col7, #T_cba78_row2_col8, #T_cba78_row2_col9, #T_cba78_row2_col10, #T_cba78_row2_col11, #T_cba78_row2_col12, #T_cba78_row2_col13, #T_cba78_row2_col14, #T_cba78_row2_col15, #T_cba78_row2_col16, #T_cba78_row2_col17, #T_cba78_row2_col18, #T_cba78_row2_col19, #T_cba78_row2_col20, #T_cba78_row2_col21, #T_cba78_row2_col22, #T_cba78_row2_col23, #T_cba78_row2_col24, #T_cba78_row2_col25, #T_cba78_row2_col26, #T_cba78_row2_col27, #T_cba78_row2_col28, #T_cba78_row2_col29, #T_cba78_row2_col30, #T_cba78_row2_col31, #T_cba78_row2_col32, #T_cba78_row2_col33, #T_cba78_row2_col34, #T_cba78_row2_col35, #T_cba78_row2_col36, #T_cba78_row2_col37, #T_cba78_row2_col38, #T_cba78_row2_col39, #T_cba78_row2_col40, #T_cba78_row2_col41, #T_cba78_row2_col42, #T_cba78_row2_col43, #T_cba78_row2_col44, #T_cba78_row2_col45, #T_cba78_row2_col46, #T_cba78_row2_col47, #T_cba78_row2_col48, #T_cba78_row2_col49, #T_cba78_row2_col50, #T_cba78_row2_col51, #T_cba78_row2_col52, #T_cba78_row2_col53, #T_cba78_row2_col54, #T_cba78_row2_col55, #T_cba78_row2_col56, #T_cba78_row2_col57, #T_cba78_row2_col58, #T_cba78_row2_col59, #T_cba78_row2_col60, #T_cba78_row2_col61, #T_cba78_row2_col62, #T_cba78_row2_col63, #T_cba78_row2_col64, #T_cba78_row2_col65, #T_cba78_row2_col66, #T_cba78_row2_col67, #T_cba78_row2_col68, #T_cba78_row2_col69, #T_cba78_row2_col70, #T_cba78_row2_col71, #T_cba78_row2_col72, #T_cba78_row2_col73, #T_cba78_row2_col74, #T_cba78_row2_col75, #T_cba78_row2_col76, #T_cba78_row2_col77, #T_cba78_row2_col78, #T_cba78_row2_col79, #T_cba78_row2_col80, #T_cba78_row3_col0, #T_cba78_row3_col1, #T_cba78_row3_col2, #T_cba78_row3_col3, #T_cba78_row3_col4, #T_cba78_row3_col5, #T_cba78_row3_col6, #T_cba78_row3_col7, #T_cba78_row3_col8, #T_cba78_row3_col9, #T_cba78_row3_col10, #T_cba78_row3_col11, #T_cba78_row3_col12, #T_cba78_row3_col13, #T_cba78_row3_col14, #T_cba78_row3_col15, #T_cba78_row3_col16, #T_cba78_row3_col17, #T_cba78_row3_col18, #T_cba78_row3_col19, #T_cba78_row3_col20, #T_cba78_row3_col21, #T_cba78_row3_col22, #T_cba78_row3_col23, #T_cba78_row3_col24, #T_cba78_row3_col25, #T_cba78_row3_col26, #T_cba78_row3_col27, #T_cba78_row3_col28, #T_cba78_row3_col29, #T_cba78_row3_col30, #T_cba78_row3_col31, #T_cba78_row3_col32, #T_cba78_row3_col33, #T_cba78_row3_col34, #T_cba78_row3_col35, #T_cba78_row3_col36, #T_cba78_row3_col37, #T_cba78_row3_col38, #T_cba78_row3_col39, #T_cba78_row3_col40, #T_cba78_row3_col41, #T_cba78_row3_col42, #T_cba78_row3_col43, #T_cba78_row3_col44, #T_cba78_row3_col45, #T_cba78_row3_col46, #T_cba78_row3_col47, #T_cba78_row3_col48, #T_cba78_row3_col49, #T_cba78_row3_col50, #T_cba78_row3_col51, #T_cba78_row3_col52, #T_cba78_row3_col53, #T_cba78_row3_col54, #T_cba78_row3_col55, #T_cba78_row3_col56, #T_cba78_row3_col57, #T_cba78_row3_col58, #T_cba78_row3_col59, #T_cba78_row3_col60, #T_cba78_row3_col61, #T_cba78_row3_col62, #T_cba78_row3_col63, #T_cba78_row3_col64, #T_cba78_row3_col65, #T_cba78_row3_col66, #T_cba78_row3_col67, #T_cba78_row3_col68, #T_cba78_row3_col69, #T_cba78_row3_col70, #T_cba78_row3_col71, #T_cba78_row3_col72, #T_cba78_row3_col73, #T_cba78_row3_col74, #T_cba78_row3_col75, #T_cba78_row3_col76, #T_cba78_row3_col77, #T_cba78_row3_col78, #T_cba78_row3_col79, #T_cba78_row3_col80, #T_cba78_row4_col0, #T_cba78_row4_col1, #T_cba78_row4_col2, #T_cba78_row4_col3, #T_cba78_row4_col4, #T_cba78_row4_col5, #T_cba78_row4_col6, #T_cba78_row4_col7, #T_cba78_row4_col8, #T_cba78_row4_col9, #T_cba78_row4_col10, #T_cba78_row4_col11, #T_cba78_row4_col12, #T_cba78_row4_col13, #T_cba78_row4_col14, #T_cba78_row4_col15, #T_cba78_row4_col16, #T_cba78_row4_col17, #T_cba78_row4_col18, #T_cba78_row4_col19, #T_cba78_row4_col20, #T_cba78_row4_col21, #T_cba78_row4_col22, #T_cba78_row4_col23, #T_cba78_row4_col24, #T_cba78_row4_col25, #T_cba78_row4_col26, #T_cba78_row4_col27, #T_cba78_row4_col28, #T_cba78_row4_col29, #T_cba78_row4_col30, #T_cba78_row4_col31, #T_cba78_row4_col32, #T_cba78_row4_col33, #T_cba78_row4_col34, #T_cba78_row4_col35, #T_cba78_row4_col36, #T_cba78_row4_col37, #T_cba78_row4_col38, #T_cba78_row4_col39, #T_cba78_row4_col40, #T_cba78_row4_col41, #T_cba78_row4_col42, #T_cba78_row4_col43, #T_cba78_row4_col44, #T_cba78_row4_col45, #T_cba78_row4_col46, #T_cba78_row4_col47, #T_cba78_row4_col48, #T_cba78_row4_col49, #T_cba78_row4_col50, #T_cba78_row4_col51, #T_cba78_row4_col52, #T_cba78_row4_col53, #T_cba78_row4_col54, #T_cba78_row4_col55, #T_cba78_row4_col56, #T_cba78_row4_col57, #T_cba78_row4_col58, #T_cba78_row4_col59, #T_cba78_row4_col60, #T_cba78_row4_col61, #T_cba78_row4_col62, #T_cba78_row4_col63, #T_cba78_row4_col64, #T_cba78_row4_col65, #T_cba78_row4_col66, #T_cba78_row4_col67, #T_cba78_row4_col68, #T_cba78_row4_col69, #T_cba78_row4_col70, #T_cba78_row4_col71, #T_cba78_row4_col72, #T_cba78_row4_col73, #T_cba78_row4_col74, #T_cba78_row4_col75, #T_cba78_row4_col76, #T_cba78_row4_col77, #T_cba78_row4_col78, #T_cba78_row4_col79, #T_cba78_row4_col80 {\n",
       "  background-color: #98FB98;\n",
       "  color: black;\n",
       "  border-color: black;\n",
       "}\n",
       "</style>\n",
       "<table id=\"T_cba78_\">\n",
       "  <thead>\n",
       "    <tr>\n",
       "      <th class=\"blank level0\" >&nbsp;</th>\n",
       "      <th class=\"col_heading level0 col0\" >Id</th>\n",
       "      <th class=\"col_heading level0 col1\" >MSSubClass</th>\n",
       "      <th class=\"col_heading level0 col2\" >MSZoning</th>\n",
       "      <th class=\"col_heading level0 col3\" >LotFrontage</th>\n",
       "      <th class=\"col_heading level0 col4\" >LotArea</th>\n",
       "      <th class=\"col_heading level0 col5\" >Street</th>\n",
       "      <th class=\"col_heading level0 col6\" >Alley</th>\n",
       "      <th class=\"col_heading level0 col7\" >LotShape</th>\n",
       "      <th class=\"col_heading level0 col8\" >LandContour</th>\n",
       "      <th class=\"col_heading level0 col9\" >Utilities</th>\n",
       "      <th class=\"col_heading level0 col10\" >LotConfig</th>\n",
       "      <th class=\"col_heading level0 col11\" >LandSlope</th>\n",
       "      <th class=\"col_heading level0 col12\" >Neighborhood</th>\n",
       "      <th class=\"col_heading level0 col13\" >Condition1</th>\n",
       "      <th class=\"col_heading level0 col14\" >Condition2</th>\n",
       "      <th class=\"col_heading level0 col15\" >BldgType</th>\n",
       "      <th class=\"col_heading level0 col16\" >HouseStyle</th>\n",
       "      <th class=\"col_heading level0 col17\" >OverallQual</th>\n",
       "      <th class=\"col_heading level0 col18\" >OverallCond</th>\n",
       "      <th class=\"col_heading level0 col19\" >YearBuilt</th>\n",
       "      <th class=\"col_heading level0 col20\" >YearRemodAdd</th>\n",
       "      <th class=\"col_heading level0 col21\" >RoofStyle</th>\n",
       "      <th class=\"col_heading level0 col22\" >RoofMatl</th>\n",
       "      <th class=\"col_heading level0 col23\" >Exterior1st</th>\n",
       "      <th class=\"col_heading level0 col24\" >Exterior2nd</th>\n",
       "      <th class=\"col_heading level0 col25\" >MasVnrType</th>\n",
       "      <th class=\"col_heading level0 col26\" >MasVnrArea</th>\n",
       "      <th class=\"col_heading level0 col27\" >ExterQual</th>\n",
       "      <th class=\"col_heading level0 col28\" >ExterCond</th>\n",
       "      <th class=\"col_heading level0 col29\" >Foundation</th>\n",
       "      <th class=\"col_heading level0 col30\" >BsmtQual</th>\n",
       "      <th class=\"col_heading level0 col31\" >BsmtCond</th>\n",
       "      <th class=\"col_heading level0 col32\" >BsmtExposure</th>\n",
       "      <th class=\"col_heading level0 col33\" >BsmtFinType1</th>\n",
       "      <th class=\"col_heading level0 col34\" >BsmtFinSF1</th>\n",
       "      <th class=\"col_heading level0 col35\" >BsmtFinType2</th>\n",
       "      <th class=\"col_heading level0 col36\" >BsmtFinSF2</th>\n",
       "      <th class=\"col_heading level0 col37\" >BsmtUnfSF</th>\n",
       "      <th class=\"col_heading level0 col38\" >TotalBsmtSF</th>\n",
       "      <th class=\"col_heading level0 col39\" >Heating</th>\n",
       "      <th class=\"col_heading level0 col40\" >HeatingQC</th>\n",
       "      <th class=\"col_heading level0 col41\" >CentralAir</th>\n",
       "      <th class=\"col_heading level0 col42\" >Electrical</th>\n",
       "      <th class=\"col_heading level0 col43\" >1stFlrSF</th>\n",
       "      <th class=\"col_heading level0 col44\" >2ndFlrSF</th>\n",
       "      <th class=\"col_heading level0 col45\" >LowQualFinSF</th>\n",
       "      <th class=\"col_heading level0 col46\" >GrLivArea</th>\n",
       "      <th class=\"col_heading level0 col47\" >BsmtFullBath</th>\n",
       "      <th class=\"col_heading level0 col48\" >BsmtHalfBath</th>\n",
       "      <th class=\"col_heading level0 col49\" >FullBath</th>\n",
       "      <th class=\"col_heading level0 col50\" >HalfBath</th>\n",
       "      <th class=\"col_heading level0 col51\" >BedroomAbvGr</th>\n",
       "      <th class=\"col_heading level0 col52\" >KitchenAbvGr</th>\n",
       "      <th class=\"col_heading level0 col53\" >KitchenQual</th>\n",
       "      <th class=\"col_heading level0 col54\" >TotRmsAbvGrd</th>\n",
       "      <th class=\"col_heading level0 col55\" >Functional</th>\n",
       "      <th class=\"col_heading level0 col56\" >Fireplaces</th>\n",
       "      <th class=\"col_heading level0 col57\" >FireplaceQu</th>\n",
       "      <th class=\"col_heading level0 col58\" >GarageType</th>\n",
       "      <th class=\"col_heading level0 col59\" >GarageYrBlt</th>\n",
       "      <th class=\"col_heading level0 col60\" >GarageFinish</th>\n",
       "      <th class=\"col_heading level0 col61\" >GarageCars</th>\n",
       "      <th class=\"col_heading level0 col62\" >GarageArea</th>\n",
       "      <th class=\"col_heading level0 col63\" >GarageQual</th>\n",
       "      <th class=\"col_heading level0 col64\" >GarageCond</th>\n",
       "      <th class=\"col_heading level0 col65\" >PavedDrive</th>\n",
       "      <th class=\"col_heading level0 col66\" >WoodDeckSF</th>\n",
       "      <th class=\"col_heading level0 col67\" >OpenPorchSF</th>\n",
       "      <th class=\"col_heading level0 col68\" >EnclosedPorch</th>\n",
       "      <th class=\"col_heading level0 col69\" >3SsnPorch</th>\n",
       "      <th class=\"col_heading level0 col70\" >ScreenPorch</th>\n",
       "      <th class=\"col_heading level0 col71\" >PoolArea</th>\n",
       "      <th class=\"col_heading level0 col72\" >PoolQC</th>\n",
       "      <th class=\"col_heading level0 col73\" >Fence</th>\n",
       "      <th class=\"col_heading level0 col74\" >MiscFeature</th>\n",
       "      <th class=\"col_heading level0 col75\" >MiscVal</th>\n",
       "      <th class=\"col_heading level0 col76\" >MoSold</th>\n",
       "      <th class=\"col_heading level0 col77\" >YrSold</th>\n",
       "      <th class=\"col_heading level0 col78\" >SaleType</th>\n",
       "      <th class=\"col_heading level0 col79\" >SaleCondition</th>\n",
       "      <th class=\"col_heading level0 col80\" >SalePrice</th>\n",
       "    </tr>\n",
       "  </thead>\n",
       "  <tbody>\n",
       "    <tr>\n",
       "      <th id=\"T_cba78_level0_row0\" class=\"row_heading level0 row0\" >0</th>\n",
       "      <td id=\"T_cba78_row0_col0\" class=\"data row0 col0\" >1</td>\n",
       "      <td id=\"T_cba78_row0_col1\" class=\"data row0 col1\" >60</td>\n",
       "      <td id=\"T_cba78_row0_col2\" class=\"data row0 col2\" >RL</td>\n",
       "      <td id=\"T_cba78_row0_col3\" class=\"data row0 col3\" >65.000000</td>\n",
       "      <td id=\"T_cba78_row0_col4\" class=\"data row0 col4\" >8450</td>\n",
       "      <td id=\"T_cba78_row0_col5\" class=\"data row0 col5\" >Pave</td>\n",
       "      <td id=\"T_cba78_row0_col6\" class=\"data row0 col6\" >nan</td>\n",
       "      <td id=\"T_cba78_row0_col7\" class=\"data row0 col7\" >Reg</td>\n",
       "      <td id=\"T_cba78_row0_col8\" class=\"data row0 col8\" >Lvl</td>\n",
       "      <td id=\"T_cba78_row0_col9\" class=\"data row0 col9\" >AllPub</td>\n",
       "      <td id=\"T_cba78_row0_col10\" class=\"data row0 col10\" >Inside</td>\n",
       "      <td id=\"T_cba78_row0_col11\" class=\"data row0 col11\" >Gtl</td>\n",
       "      <td id=\"T_cba78_row0_col12\" class=\"data row0 col12\" >CollgCr</td>\n",
       "      <td id=\"T_cba78_row0_col13\" class=\"data row0 col13\" >Norm</td>\n",
       "      <td id=\"T_cba78_row0_col14\" class=\"data row0 col14\" >Norm</td>\n",
       "      <td id=\"T_cba78_row0_col15\" class=\"data row0 col15\" >1Fam</td>\n",
       "      <td id=\"T_cba78_row0_col16\" class=\"data row0 col16\" >2Story</td>\n",
       "      <td id=\"T_cba78_row0_col17\" class=\"data row0 col17\" >7</td>\n",
       "      <td id=\"T_cba78_row0_col18\" class=\"data row0 col18\" >5</td>\n",
       "      <td id=\"T_cba78_row0_col19\" class=\"data row0 col19\" >2003</td>\n",
       "      <td id=\"T_cba78_row0_col20\" class=\"data row0 col20\" >2003</td>\n",
       "      <td id=\"T_cba78_row0_col21\" class=\"data row0 col21\" >Gable</td>\n",
       "      <td id=\"T_cba78_row0_col22\" class=\"data row0 col22\" >CompShg</td>\n",
       "      <td id=\"T_cba78_row0_col23\" class=\"data row0 col23\" >VinylSd</td>\n",
       "      <td id=\"T_cba78_row0_col24\" class=\"data row0 col24\" >VinylSd</td>\n",
       "      <td id=\"T_cba78_row0_col25\" class=\"data row0 col25\" >BrkFace</td>\n",
       "      <td id=\"T_cba78_row0_col26\" class=\"data row0 col26\" >196.000000</td>\n",
       "      <td id=\"T_cba78_row0_col27\" class=\"data row0 col27\" >Gd</td>\n",
       "      <td id=\"T_cba78_row0_col28\" class=\"data row0 col28\" >TA</td>\n",
       "      <td id=\"T_cba78_row0_col29\" class=\"data row0 col29\" >PConc</td>\n",
       "      <td id=\"T_cba78_row0_col30\" class=\"data row0 col30\" >Gd</td>\n",
       "      <td id=\"T_cba78_row0_col31\" class=\"data row0 col31\" >TA</td>\n",
       "      <td id=\"T_cba78_row0_col32\" class=\"data row0 col32\" >No</td>\n",
       "      <td id=\"T_cba78_row0_col33\" class=\"data row0 col33\" >GLQ</td>\n",
       "      <td id=\"T_cba78_row0_col34\" class=\"data row0 col34\" >706</td>\n",
       "      <td id=\"T_cba78_row0_col35\" class=\"data row0 col35\" >Unf</td>\n",
       "      <td id=\"T_cba78_row0_col36\" class=\"data row0 col36\" >0</td>\n",
       "      <td id=\"T_cba78_row0_col37\" class=\"data row0 col37\" >150</td>\n",
       "      <td id=\"T_cba78_row0_col38\" class=\"data row0 col38\" >856</td>\n",
       "      <td id=\"T_cba78_row0_col39\" class=\"data row0 col39\" >GasA</td>\n",
       "      <td id=\"T_cba78_row0_col40\" class=\"data row0 col40\" >Ex</td>\n",
       "      <td id=\"T_cba78_row0_col41\" class=\"data row0 col41\" >Y</td>\n",
       "      <td id=\"T_cba78_row0_col42\" class=\"data row0 col42\" >SBrkr</td>\n",
       "      <td id=\"T_cba78_row0_col43\" class=\"data row0 col43\" >856</td>\n",
       "      <td id=\"T_cba78_row0_col44\" class=\"data row0 col44\" >854</td>\n",
       "      <td id=\"T_cba78_row0_col45\" class=\"data row0 col45\" >0</td>\n",
       "      <td id=\"T_cba78_row0_col46\" class=\"data row0 col46\" >1710</td>\n",
       "      <td id=\"T_cba78_row0_col47\" class=\"data row0 col47\" >1</td>\n",
       "      <td id=\"T_cba78_row0_col48\" class=\"data row0 col48\" >0</td>\n",
       "      <td id=\"T_cba78_row0_col49\" class=\"data row0 col49\" >2</td>\n",
       "      <td id=\"T_cba78_row0_col50\" class=\"data row0 col50\" >1</td>\n",
       "      <td id=\"T_cba78_row0_col51\" class=\"data row0 col51\" >3</td>\n",
       "      <td id=\"T_cba78_row0_col52\" class=\"data row0 col52\" >1</td>\n",
       "      <td id=\"T_cba78_row0_col53\" class=\"data row0 col53\" >Gd</td>\n",
       "      <td id=\"T_cba78_row0_col54\" class=\"data row0 col54\" >8</td>\n",
       "      <td id=\"T_cba78_row0_col55\" class=\"data row0 col55\" >Typ</td>\n",
       "      <td id=\"T_cba78_row0_col56\" class=\"data row0 col56\" >0</td>\n",
       "      <td id=\"T_cba78_row0_col57\" class=\"data row0 col57\" >nan</td>\n",
       "      <td id=\"T_cba78_row0_col58\" class=\"data row0 col58\" >Attchd</td>\n",
       "      <td id=\"T_cba78_row0_col59\" class=\"data row0 col59\" >2003.000000</td>\n",
       "      <td id=\"T_cba78_row0_col60\" class=\"data row0 col60\" >RFn</td>\n",
       "      <td id=\"T_cba78_row0_col61\" class=\"data row0 col61\" >2</td>\n",
       "      <td id=\"T_cba78_row0_col62\" class=\"data row0 col62\" >548</td>\n",
       "      <td id=\"T_cba78_row0_col63\" class=\"data row0 col63\" >TA</td>\n",
       "      <td id=\"T_cba78_row0_col64\" class=\"data row0 col64\" >TA</td>\n",
       "      <td id=\"T_cba78_row0_col65\" class=\"data row0 col65\" >Y</td>\n",
       "      <td id=\"T_cba78_row0_col66\" class=\"data row0 col66\" >0</td>\n",
       "      <td id=\"T_cba78_row0_col67\" class=\"data row0 col67\" >61</td>\n",
       "      <td id=\"T_cba78_row0_col68\" class=\"data row0 col68\" >0</td>\n",
       "      <td id=\"T_cba78_row0_col69\" class=\"data row0 col69\" >0</td>\n",
       "      <td id=\"T_cba78_row0_col70\" class=\"data row0 col70\" >0</td>\n",
       "      <td id=\"T_cba78_row0_col71\" class=\"data row0 col71\" >0</td>\n",
       "      <td id=\"T_cba78_row0_col72\" class=\"data row0 col72\" >nan</td>\n",
       "      <td id=\"T_cba78_row0_col73\" class=\"data row0 col73\" >nan</td>\n",
       "      <td id=\"T_cba78_row0_col74\" class=\"data row0 col74\" >nan</td>\n",
       "      <td id=\"T_cba78_row0_col75\" class=\"data row0 col75\" >0</td>\n",
       "      <td id=\"T_cba78_row0_col76\" class=\"data row0 col76\" >2</td>\n",
       "      <td id=\"T_cba78_row0_col77\" class=\"data row0 col77\" >2008</td>\n",
       "      <td id=\"T_cba78_row0_col78\" class=\"data row0 col78\" >WD</td>\n",
       "      <td id=\"T_cba78_row0_col79\" class=\"data row0 col79\" >Normal</td>\n",
       "      <td id=\"T_cba78_row0_col80\" class=\"data row0 col80\" >208500</td>\n",
       "    </tr>\n",
       "    <tr>\n",
       "      <th id=\"T_cba78_level0_row1\" class=\"row_heading level0 row1\" >1</th>\n",
       "      <td id=\"T_cba78_row1_col0\" class=\"data row1 col0\" >2</td>\n",
       "      <td id=\"T_cba78_row1_col1\" class=\"data row1 col1\" >20</td>\n",
       "      <td id=\"T_cba78_row1_col2\" class=\"data row1 col2\" >RL</td>\n",
       "      <td id=\"T_cba78_row1_col3\" class=\"data row1 col3\" >80.000000</td>\n",
       "      <td id=\"T_cba78_row1_col4\" class=\"data row1 col4\" >9600</td>\n",
       "      <td id=\"T_cba78_row1_col5\" class=\"data row1 col5\" >Pave</td>\n",
       "      <td id=\"T_cba78_row1_col6\" class=\"data row1 col6\" >nan</td>\n",
       "      <td id=\"T_cba78_row1_col7\" class=\"data row1 col7\" >Reg</td>\n",
       "      <td id=\"T_cba78_row1_col8\" class=\"data row1 col8\" >Lvl</td>\n",
       "      <td id=\"T_cba78_row1_col9\" class=\"data row1 col9\" >AllPub</td>\n",
       "      <td id=\"T_cba78_row1_col10\" class=\"data row1 col10\" >FR2</td>\n",
       "      <td id=\"T_cba78_row1_col11\" class=\"data row1 col11\" >Gtl</td>\n",
       "      <td id=\"T_cba78_row1_col12\" class=\"data row1 col12\" >Veenker</td>\n",
       "      <td id=\"T_cba78_row1_col13\" class=\"data row1 col13\" >Feedr</td>\n",
       "      <td id=\"T_cba78_row1_col14\" class=\"data row1 col14\" >Norm</td>\n",
       "      <td id=\"T_cba78_row1_col15\" class=\"data row1 col15\" >1Fam</td>\n",
       "      <td id=\"T_cba78_row1_col16\" class=\"data row1 col16\" >1Story</td>\n",
       "      <td id=\"T_cba78_row1_col17\" class=\"data row1 col17\" >6</td>\n",
       "      <td id=\"T_cba78_row1_col18\" class=\"data row1 col18\" >8</td>\n",
       "      <td id=\"T_cba78_row1_col19\" class=\"data row1 col19\" >1976</td>\n",
       "      <td id=\"T_cba78_row1_col20\" class=\"data row1 col20\" >1976</td>\n",
       "      <td id=\"T_cba78_row1_col21\" class=\"data row1 col21\" >Gable</td>\n",
       "      <td id=\"T_cba78_row1_col22\" class=\"data row1 col22\" >CompShg</td>\n",
       "      <td id=\"T_cba78_row1_col23\" class=\"data row1 col23\" >MetalSd</td>\n",
       "      <td id=\"T_cba78_row1_col24\" class=\"data row1 col24\" >MetalSd</td>\n",
       "      <td id=\"T_cba78_row1_col25\" class=\"data row1 col25\" >None</td>\n",
       "      <td id=\"T_cba78_row1_col26\" class=\"data row1 col26\" >0.000000</td>\n",
       "      <td id=\"T_cba78_row1_col27\" class=\"data row1 col27\" >TA</td>\n",
       "      <td id=\"T_cba78_row1_col28\" class=\"data row1 col28\" >TA</td>\n",
       "      <td id=\"T_cba78_row1_col29\" class=\"data row1 col29\" >CBlock</td>\n",
       "      <td id=\"T_cba78_row1_col30\" class=\"data row1 col30\" >Gd</td>\n",
       "      <td id=\"T_cba78_row1_col31\" class=\"data row1 col31\" >TA</td>\n",
       "      <td id=\"T_cba78_row1_col32\" class=\"data row1 col32\" >Gd</td>\n",
       "      <td id=\"T_cba78_row1_col33\" class=\"data row1 col33\" >ALQ</td>\n",
       "      <td id=\"T_cba78_row1_col34\" class=\"data row1 col34\" >978</td>\n",
       "      <td id=\"T_cba78_row1_col35\" class=\"data row1 col35\" >Unf</td>\n",
       "      <td id=\"T_cba78_row1_col36\" class=\"data row1 col36\" >0</td>\n",
       "      <td id=\"T_cba78_row1_col37\" class=\"data row1 col37\" >284</td>\n",
       "      <td id=\"T_cba78_row1_col38\" class=\"data row1 col38\" >1262</td>\n",
       "      <td id=\"T_cba78_row1_col39\" class=\"data row1 col39\" >GasA</td>\n",
       "      <td id=\"T_cba78_row1_col40\" class=\"data row1 col40\" >Ex</td>\n",
       "      <td id=\"T_cba78_row1_col41\" class=\"data row1 col41\" >Y</td>\n",
       "      <td id=\"T_cba78_row1_col42\" class=\"data row1 col42\" >SBrkr</td>\n",
       "      <td id=\"T_cba78_row1_col43\" class=\"data row1 col43\" >1262</td>\n",
       "      <td id=\"T_cba78_row1_col44\" class=\"data row1 col44\" >0</td>\n",
       "      <td id=\"T_cba78_row1_col45\" class=\"data row1 col45\" >0</td>\n",
       "      <td id=\"T_cba78_row1_col46\" class=\"data row1 col46\" >1262</td>\n",
       "      <td id=\"T_cba78_row1_col47\" class=\"data row1 col47\" >0</td>\n",
       "      <td id=\"T_cba78_row1_col48\" class=\"data row1 col48\" >1</td>\n",
       "      <td id=\"T_cba78_row1_col49\" class=\"data row1 col49\" >2</td>\n",
       "      <td id=\"T_cba78_row1_col50\" class=\"data row1 col50\" >0</td>\n",
       "      <td id=\"T_cba78_row1_col51\" class=\"data row1 col51\" >3</td>\n",
       "      <td id=\"T_cba78_row1_col52\" class=\"data row1 col52\" >1</td>\n",
       "      <td id=\"T_cba78_row1_col53\" class=\"data row1 col53\" >TA</td>\n",
       "      <td id=\"T_cba78_row1_col54\" class=\"data row1 col54\" >6</td>\n",
       "      <td id=\"T_cba78_row1_col55\" class=\"data row1 col55\" >Typ</td>\n",
       "      <td id=\"T_cba78_row1_col56\" class=\"data row1 col56\" >1</td>\n",
       "      <td id=\"T_cba78_row1_col57\" class=\"data row1 col57\" >TA</td>\n",
       "      <td id=\"T_cba78_row1_col58\" class=\"data row1 col58\" >Attchd</td>\n",
       "      <td id=\"T_cba78_row1_col59\" class=\"data row1 col59\" >1976.000000</td>\n",
       "      <td id=\"T_cba78_row1_col60\" class=\"data row1 col60\" >RFn</td>\n",
       "      <td id=\"T_cba78_row1_col61\" class=\"data row1 col61\" >2</td>\n",
       "      <td id=\"T_cba78_row1_col62\" class=\"data row1 col62\" >460</td>\n",
       "      <td id=\"T_cba78_row1_col63\" class=\"data row1 col63\" >TA</td>\n",
       "      <td id=\"T_cba78_row1_col64\" class=\"data row1 col64\" >TA</td>\n",
       "      <td id=\"T_cba78_row1_col65\" class=\"data row1 col65\" >Y</td>\n",
       "      <td id=\"T_cba78_row1_col66\" class=\"data row1 col66\" >298</td>\n",
       "      <td id=\"T_cba78_row1_col67\" class=\"data row1 col67\" >0</td>\n",
       "      <td id=\"T_cba78_row1_col68\" class=\"data row1 col68\" >0</td>\n",
       "      <td id=\"T_cba78_row1_col69\" class=\"data row1 col69\" >0</td>\n",
       "      <td id=\"T_cba78_row1_col70\" class=\"data row1 col70\" >0</td>\n",
       "      <td id=\"T_cba78_row1_col71\" class=\"data row1 col71\" >0</td>\n",
       "      <td id=\"T_cba78_row1_col72\" class=\"data row1 col72\" >nan</td>\n",
       "      <td id=\"T_cba78_row1_col73\" class=\"data row1 col73\" >nan</td>\n",
       "      <td id=\"T_cba78_row1_col74\" class=\"data row1 col74\" >nan</td>\n",
       "      <td id=\"T_cba78_row1_col75\" class=\"data row1 col75\" >0</td>\n",
       "      <td id=\"T_cba78_row1_col76\" class=\"data row1 col76\" >5</td>\n",
       "      <td id=\"T_cba78_row1_col77\" class=\"data row1 col77\" >2007</td>\n",
       "      <td id=\"T_cba78_row1_col78\" class=\"data row1 col78\" >WD</td>\n",
       "      <td id=\"T_cba78_row1_col79\" class=\"data row1 col79\" >Normal</td>\n",
       "      <td id=\"T_cba78_row1_col80\" class=\"data row1 col80\" >181500</td>\n",
       "    </tr>\n",
       "    <tr>\n",
       "      <th id=\"T_cba78_level0_row2\" class=\"row_heading level0 row2\" >2</th>\n",
       "      <td id=\"T_cba78_row2_col0\" class=\"data row2 col0\" >3</td>\n",
       "      <td id=\"T_cba78_row2_col1\" class=\"data row2 col1\" >60</td>\n",
       "      <td id=\"T_cba78_row2_col2\" class=\"data row2 col2\" >RL</td>\n",
       "      <td id=\"T_cba78_row2_col3\" class=\"data row2 col3\" >68.000000</td>\n",
       "      <td id=\"T_cba78_row2_col4\" class=\"data row2 col4\" >11250</td>\n",
       "      <td id=\"T_cba78_row2_col5\" class=\"data row2 col5\" >Pave</td>\n",
       "      <td id=\"T_cba78_row2_col6\" class=\"data row2 col6\" >nan</td>\n",
       "      <td id=\"T_cba78_row2_col7\" class=\"data row2 col7\" >IR1</td>\n",
       "      <td id=\"T_cba78_row2_col8\" class=\"data row2 col8\" >Lvl</td>\n",
       "      <td id=\"T_cba78_row2_col9\" class=\"data row2 col9\" >AllPub</td>\n",
       "      <td id=\"T_cba78_row2_col10\" class=\"data row2 col10\" >Inside</td>\n",
       "      <td id=\"T_cba78_row2_col11\" class=\"data row2 col11\" >Gtl</td>\n",
       "      <td id=\"T_cba78_row2_col12\" class=\"data row2 col12\" >CollgCr</td>\n",
       "      <td id=\"T_cba78_row2_col13\" class=\"data row2 col13\" >Norm</td>\n",
       "      <td id=\"T_cba78_row2_col14\" class=\"data row2 col14\" >Norm</td>\n",
       "      <td id=\"T_cba78_row2_col15\" class=\"data row2 col15\" >1Fam</td>\n",
       "      <td id=\"T_cba78_row2_col16\" class=\"data row2 col16\" >2Story</td>\n",
       "      <td id=\"T_cba78_row2_col17\" class=\"data row2 col17\" >7</td>\n",
       "      <td id=\"T_cba78_row2_col18\" class=\"data row2 col18\" >5</td>\n",
       "      <td id=\"T_cba78_row2_col19\" class=\"data row2 col19\" >2001</td>\n",
       "      <td id=\"T_cba78_row2_col20\" class=\"data row2 col20\" >2002</td>\n",
       "      <td id=\"T_cba78_row2_col21\" class=\"data row2 col21\" >Gable</td>\n",
       "      <td id=\"T_cba78_row2_col22\" class=\"data row2 col22\" >CompShg</td>\n",
       "      <td id=\"T_cba78_row2_col23\" class=\"data row2 col23\" >VinylSd</td>\n",
       "      <td id=\"T_cba78_row2_col24\" class=\"data row2 col24\" >VinylSd</td>\n",
       "      <td id=\"T_cba78_row2_col25\" class=\"data row2 col25\" >BrkFace</td>\n",
       "      <td id=\"T_cba78_row2_col26\" class=\"data row2 col26\" >162.000000</td>\n",
       "      <td id=\"T_cba78_row2_col27\" class=\"data row2 col27\" >Gd</td>\n",
       "      <td id=\"T_cba78_row2_col28\" class=\"data row2 col28\" >TA</td>\n",
       "      <td id=\"T_cba78_row2_col29\" class=\"data row2 col29\" >PConc</td>\n",
       "      <td id=\"T_cba78_row2_col30\" class=\"data row2 col30\" >Gd</td>\n",
       "      <td id=\"T_cba78_row2_col31\" class=\"data row2 col31\" >TA</td>\n",
       "      <td id=\"T_cba78_row2_col32\" class=\"data row2 col32\" >Mn</td>\n",
       "      <td id=\"T_cba78_row2_col33\" class=\"data row2 col33\" >GLQ</td>\n",
       "      <td id=\"T_cba78_row2_col34\" class=\"data row2 col34\" >486</td>\n",
       "      <td id=\"T_cba78_row2_col35\" class=\"data row2 col35\" >Unf</td>\n",
       "      <td id=\"T_cba78_row2_col36\" class=\"data row2 col36\" >0</td>\n",
       "      <td id=\"T_cba78_row2_col37\" class=\"data row2 col37\" >434</td>\n",
       "      <td id=\"T_cba78_row2_col38\" class=\"data row2 col38\" >920</td>\n",
       "      <td id=\"T_cba78_row2_col39\" class=\"data row2 col39\" >GasA</td>\n",
       "      <td id=\"T_cba78_row2_col40\" class=\"data row2 col40\" >Ex</td>\n",
       "      <td id=\"T_cba78_row2_col41\" class=\"data row2 col41\" >Y</td>\n",
       "      <td id=\"T_cba78_row2_col42\" class=\"data row2 col42\" >SBrkr</td>\n",
       "      <td id=\"T_cba78_row2_col43\" class=\"data row2 col43\" >920</td>\n",
       "      <td id=\"T_cba78_row2_col44\" class=\"data row2 col44\" >866</td>\n",
       "      <td id=\"T_cba78_row2_col45\" class=\"data row2 col45\" >0</td>\n",
       "      <td id=\"T_cba78_row2_col46\" class=\"data row2 col46\" >1786</td>\n",
       "      <td id=\"T_cba78_row2_col47\" class=\"data row2 col47\" >1</td>\n",
       "      <td id=\"T_cba78_row2_col48\" class=\"data row2 col48\" >0</td>\n",
       "      <td id=\"T_cba78_row2_col49\" class=\"data row2 col49\" >2</td>\n",
       "      <td id=\"T_cba78_row2_col50\" class=\"data row2 col50\" >1</td>\n",
       "      <td id=\"T_cba78_row2_col51\" class=\"data row2 col51\" >3</td>\n",
       "      <td id=\"T_cba78_row2_col52\" class=\"data row2 col52\" >1</td>\n",
       "      <td id=\"T_cba78_row2_col53\" class=\"data row2 col53\" >Gd</td>\n",
       "      <td id=\"T_cba78_row2_col54\" class=\"data row2 col54\" >6</td>\n",
       "      <td id=\"T_cba78_row2_col55\" class=\"data row2 col55\" >Typ</td>\n",
       "      <td id=\"T_cba78_row2_col56\" class=\"data row2 col56\" >1</td>\n",
       "      <td id=\"T_cba78_row2_col57\" class=\"data row2 col57\" >TA</td>\n",
       "      <td id=\"T_cba78_row2_col58\" class=\"data row2 col58\" >Attchd</td>\n",
       "      <td id=\"T_cba78_row2_col59\" class=\"data row2 col59\" >2001.000000</td>\n",
       "      <td id=\"T_cba78_row2_col60\" class=\"data row2 col60\" >RFn</td>\n",
       "      <td id=\"T_cba78_row2_col61\" class=\"data row2 col61\" >2</td>\n",
       "      <td id=\"T_cba78_row2_col62\" class=\"data row2 col62\" >608</td>\n",
       "      <td id=\"T_cba78_row2_col63\" class=\"data row2 col63\" >TA</td>\n",
       "      <td id=\"T_cba78_row2_col64\" class=\"data row2 col64\" >TA</td>\n",
       "      <td id=\"T_cba78_row2_col65\" class=\"data row2 col65\" >Y</td>\n",
       "      <td id=\"T_cba78_row2_col66\" class=\"data row2 col66\" >0</td>\n",
       "      <td id=\"T_cba78_row2_col67\" class=\"data row2 col67\" >42</td>\n",
       "      <td id=\"T_cba78_row2_col68\" class=\"data row2 col68\" >0</td>\n",
       "      <td id=\"T_cba78_row2_col69\" class=\"data row2 col69\" >0</td>\n",
       "      <td id=\"T_cba78_row2_col70\" class=\"data row2 col70\" >0</td>\n",
       "      <td id=\"T_cba78_row2_col71\" class=\"data row2 col71\" >0</td>\n",
       "      <td id=\"T_cba78_row2_col72\" class=\"data row2 col72\" >nan</td>\n",
       "      <td id=\"T_cba78_row2_col73\" class=\"data row2 col73\" >nan</td>\n",
       "      <td id=\"T_cba78_row2_col74\" class=\"data row2 col74\" >nan</td>\n",
       "      <td id=\"T_cba78_row2_col75\" class=\"data row2 col75\" >0</td>\n",
       "      <td id=\"T_cba78_row2_col76\" class=\"data row2 col76\" >9</td>\n",
       "      <td id=\"T_cba78_row2_col77\" class=\"data row2 col77\" >2008</td>\n",
       "      <td id=\"T_cba78_row2_col78\" class=\"data row2 col78\" >WD</td>\n",
       "      <td id=\"T_cba78_row2_col79\" class=\"data row2 col79\" >Normal</td>\n",
       "      <td id=\"T_cba78_row2_col80\" class=\"data row2 col80\" >223500</td>\n",
       "    </tr>\n",
       "    <tr>\n",
       "      <th id=\"T_cba78_level0_row3\" class=\"row_heading level0 row3\" >3</th>\n",
       "      <td id=\"T_cba78_row3_col0\" class=\"data row3 col0\" >4</td>\n",
       "      <td id=\"T_cba78_row3_col1\" class=\"data row3 col1\" >70</td>\n",
       "      <td id=\"T_cba78_row3_col2\" class=\"data row3 col2\" >RL</td>\n",
       "      <td id=\"T_cba78_row3_col3\" class=\"data row3 col3\" >60.000000</td>\n",
       "      <td id=\"T_cba78_row3_col4\" class=\"data row3 col4\" >9550</td>\n",
       "      <td id=\"T_cba78_row3_col5\" class=\"data row3 col5\" >Pave</td>\n",
       "      <td id=\"T_cba78_row3_col6\" class=\"data row3 col6\" >nan</td>\n",
       "      <td id=\"T_cba78_row3_col7\" class=\"data row3 col7\" >IR1</td>\n",
       "      <td id=\"T_cba78_row3_col8\" class=\"data row3 col8\" >Lvl</td>\n",
       "      <td id=\"T_cba78_row3_col9\" class=\"data row3 col9\" >AllPub</td>\n",
       "      <td id=\"T_cba78_row3_col10\" class=\"data row3 col10\" >Corner</td>\n",
       "      <td id=\"T_cba78_row3_col11\" class=\"data row3 col11\" >Gtl</td>\n",
       "      <td id=\"T_cba78_row3_col12\" class=\"data row3 col12\" >Crawfor</td>\n",
       "      <td id=\"T_cba78_row3_col13\" class=\"data row3 col13\" >Norm</td>\n",
       "      <td id=\"T_cba78_row3_col14\" class=\"data row3 col14\" >Norm</td>\n",
       "      <td id=\"T_cba78_row3_col15\" class=\"data row3 col15\" >1Fam</td>\n",
       "      <td id=\"T_cba78_row3_col16\" class=\"data row3 col16\" >2Story</td>\n",
       "      <td id=\"T_cba78_row3_col17\" class=\"data row3 col17\" >7</td>\n",
       "      <td id=\"T_cba78_row3_col18\" class=\"data row3 col18\" >5</td>\n",
       "      <td id=\"T_cba78_row3_col19\" class=\"data row3 col19\" >1915</td>\n",
       "      <td id=\"T_cba78_row3_col20\" class=\"data row3 col20\" >1970</td>\n",
       "      <td id=\"T_cba78_row3_col21\" class=\"data row3 col21\" >Gable</td>\n",
       "      <td id=\"T_cba78_row3_col22\" class=\"data row3 col22\" >CompShg</td>\n",
       "      <td id=\"T_cba78_row3_col23\" class=\"data row3 col23\" >Wd Sdng</td>\n",
       "      <td id=\"T_cba78_row3_col24\" class=\"data row3 col24\" >Wd Shng</td>\n",
       "      <td id=\"T_cba78_row3_col25\" class=\"data row3 col25\" >None</td>\n",
       "      <td id=\"T_cba78_row3_col26\" class=\"data row3 col26\" >0.000000</td>\n",
       "      <td id=\"T_cba78_row3_col27\" class=\"data row3 col27\" >TA</td>\n",
       "      <td id=\"T_cba78_row3_col28\" class=\"data row3 col28\" >TA</td>\n",
       "      <td id=\"T_cba78_row3_col29\" class=\"data row3 col29\" >BrkTil</td>\n",
       "      <td id=\"T_cba78_row3_col30\" class=\"data row3 col30\" >TA</td>\n",
       "      <td id=\"T_cba78_row3_col31\" class=\"data row3 col31\" >Gd</td>\n",
       "      <td id=\"T_cba78_row3_col32\" class=\"data row3 col32\" >No</td>\n",
       "      <td id=\"T_cba78_row3_col33\" class=\"data row3 col33\" >ALQ</td>\n",
       "      <td id=\"T_cba78_row3_col34\" class=\"data row3 col34\" >216</td>\n",
       "      <td id=\"T_cba78_row3_col35\" class=\"data row3 col35\" >Unf</td>\n",
       "      <td id=\"T_cba78_row3_col36\" class=\"data row3 col36\" >0</td>\n",
       "      <td id=\"T_cba78_row3_col37\" class=\"data row3 col37\" >540</td>\n",
       "      <td id=\"T_cba78_row3_col38\" class=\"data row3 col38\" >756</td>\n",
       "      <td id=\"T_cba78_row3_col39\" class=\"data row3 col39\" >GasA</td>\n",
       "      <td id=\"T_cba78_row3_col40\" class=\"data row3 col40\" >Gd</td>\n",
       "      <td id=\"T_cba78_row3_col41\" class=\"data row3 col41\" >Y</td>\n",
       "      <td id=\"T_cba78_row3_col42\" class=\"data row3 col42\" >SBrkr</td>\n",
       "      <td id=\"T_cba78_row3_col43\" class=\"data row3 col43\" >961</td>\n",
       "      <td id=\"T_cba78_row3_col44\" class=\"data row3 col44\" >756</td>\n",
       "      <td id=\"T_cba78_row3_col45\" class=\"data row3 col45\" >0</td>\n",
       "      <td id=\"T_cba78_row3_col46\" class=\"data row3 col46\" >1717</td>\n",
       "      <td id=\"T_cba78_row3_col47\" class=\"data row3 col47\" >1</td>\n",
       "      <td id=\"T_cba78_row3_col48\" class=\"data row3 col48\" >0</td>\n",
       "      <td id=\"T_cba78_row3_col49\" class=\"data row3 col49\" >1</td>\n",
       "      <td id=\"T_cba78_row3_col50\" class=\"data row3 col50\" >0</td>\n",
       "      <td id=\"T_cba78_row3_col51\" class=\"data row3 col51\" >3</td>\n",
       "      <td id=\"T_cba78_row3_col52\" class=\"data row3 col52\" >1</td>\n",
       "      <td id=\"T_cba78_row3_col53\" class=\"data row3 col53\" >Gd</td>\n",
       "      <td id=\"T_cba78_row3_col54\" class=\"data row3 col54\" >7</td>\n",
       "      <td id=\"T_cba78_row3_col55\" class=\"data row3 col55\" >Typ</td>\n",
       "      <td id=\"T_cba78_row3_col56\" class=\"data row3 col56\" >1</td>\n",
       "      <td id=\"T_cba78_row3_col57\" class=\"data row3 col57\" >Gd</td>\n",
       "      <td id=\"T_cba78_row3_col58\" class=\"data row3 col58\" >Detchd</td>\n",
       "      <td id=\"T_cba78_row3_col59\" class=\"data row3 col59\" >1998.000000</td>\n",
       "      <td id=\"T_cba78_row3_col60\" class=\"data row3 col60\" >Unf</td>\n",
       "      <td id=\"T_cba78_row3_col61\" class=\"data row3 col61\" >3</td>\n",
       "      <td id=\"T_cba78_row3_col62\" class=\"data row3 col62\" >642</td>\n",
       "      <td id=\"T_cba78_row3_col63\" class=\"data row3 col63\" >TA</td>\n",
       "      <td id=\"T_cba78_row3_col64\" class=\"data row3 col64\" >TA</td>\n",
       "      <td id=\"T_cba78_row3_col65\" class=\"data row3 col65\" >Y</td>\n",
       "      <td id=\"T_cba78_row3_col66\" class=\"data row3 col66\" >0</td>\n",
       "      <td id=\"T_cba78_row3_col67\" class=\"data row3 col67\" >35</td>\n",
       "      <td id=\"T_cba78_row3_col68\" class=\"data row3 col68\" >272</td>\n",
       "      <td id=\"T_cba78_row3_col69\" class=\"data row3 col69\" >0</td>\n",
       "      <td id=\"T_cba78_row3_col70\" class=\"data row3 col70\" >0</td>\n",
       "      <td id=\"T_cba78_row3_col71\" class=\"data row3 col71\" >0</td>\n",
       "      <td id=\"T_cba78_row3_col72\" class=\"data row3 col72\" >nan</td>\n",
       "      <td id=\"T_cba78_row3_col73\" class=\"data row3 col73\" >nan</td>\n",
       "      <td id=\"T_cba78_row3_col74\" class=\"data row3 col74\" >nan</td>\n",
       "      <td id=\"T_cba78_row3_col75\" class=\"data row3 col75\" >0</td>\n",
       "      <td id=\"T_cba78_row3_col76\" class=\"data row3 col76\" >2</td>\n",
       "      <td id=\"T_cba78_row3_col77\" class=\"data row3 col77\" >2006</td>\n",
       "      <td id=\"T_cba78_row3_col78\" class=\"data row3 col78\" >WD</td>\n",
       "      <td id=\"T_cba78_row3_col79\" class=\"data row3 col79\" >Abnorml</td>\n",
       "      <td id=\"T_cba78_row3_col80\" class=\"data row3 col80\" >140000</td>\n",
       "    </tr>\n",
       "    <tr>\n",
       "      <th id=\"T_cba78_level0_row4\" class=\"row_heading level0 row4\" >4</th>\n",
       "      <td id=\"T_cba78_row4_col0\" class=\"data row4 col0\" >5</td>\n",
       "      <td id=\"T_cba78_row4_col1\" class=\"data row4 col1\" >60</td>\n",
       "      <td id=\"T_cba78_row4_col2\" class=\"data row4 col2\" >RL</td>\n",
       "      <td id=\"T_cba78_row4_col3\" class=\"data row4 col3\" >84.000000</td>\n",
       "      <td id=\"T_cba78_row4_col4\" class=\"data row4 col4\" >14260</td>\n",
       "      <td id=\"T_cba78_row4_col5\" class=\"data row4 col5\" >Pave</td>\n",
       "      <td id=\"T_cba78_row4_col6\" class=\"data row4 col6\" >nan</td>\n",
       "      <td id=\"T_cba78_row4_col7\" class=\"data row4 col7\" >IR1</td>\n",
       "      <td id=\"T_cba78_row4_col8\" class=\"data row4 col8\" >Lvl</td>\n",
       "      <td id=\"T_cba78_row4_col9\" class=\"data row4 col9\" >AllPub</td>\n",
       "      <td id=\"T_cba78_row4_col10\" class=\"data row4 col10\" >FR2</td>\n",
       "      <td id=\"T_cba78_row4_col11\" class=\"data row4 col11\" >Gtl</td>\n",
       "      <td id=\"T_cba78_row4_col12\" class=\"data row4 col12\" >NoRidge</td>\n",
       "      <td id=\"T_cba78_row4_col13\" class=\"data row4 col13\" >Norm</td>\n",
       "      <td id=\"T_cba78_row4_col14\" class=\"data row4 col14\" >Norm</td>\n",
       "      <td id=\"T_cba78_row4_col15\" class=\"data row4 col15\" >1Fam</td>\n",
       "      <td id=\"T_cba78_row4_col16\" class=\"data row4 col16\" >2Story</td>\n",
       "      <td id=\"T_cba78_row4_col17\" class=\"data row4 col17\" >8</td>\n",
       "      <td id=\"T_cba78_row4_col18\" class=\"data row4 col18\" >5</td>\n",
       "      <td id=\"T_cba78_row4_col19\" class=\"data row4 col19\" >2000</td>\n",
       "      <td id=\"T_cba78_row4_col20\" class=\"data row4 col20\" >2000</td>\n",
       "      <td id=\"T_cba78_row4_col21\" class=\"data row4 col21\" >Gable</td>\n",
       "      <td id=\"T_cba78_row4_col22\" class=\"data row4 col22\" >CompShg</td>\n",
       "      <td id=\"T_cba78_row4_col23\" class=\"data row4 col23\" >VinylSd</td>\n",
       "      <td id=\"T_cba78_row4_col24\" class=\"data row4 col24\" >VinylSd</td>\n",
       "      <td id=\"T_cba78_row4_col25\" class=\"data row4 col25\" >BrkFace</td>\n",
       "      <td id=\"T_cba78_row4_col26\" class=\"data row4 col26\" >350.000000</td>\n",
       "      <td id=\"T_cba78_row4_col27\" class=\"data row4 col27\" >Gd</td>\n",
       "      <td id=\"T_cba78_row4_col28\" class=\"data row4 col28\" >TA</td>\n",
       "      <td id=\"T_cba78_row4_col29\" class=\"data row4 col29\" >PConc</td>\n",
       "      <td id=\"T_cba78_row4_col30\" class=\"data row4 col30\" >Gd</td>\n",
       "      <td id=\"T_cba78_row4_col31\" class=\"data row4 col31\" >TA</td>\n",
       "      <td id=\"T_cba78_row4_col32\" class=\"data row4 col32\" >Av</td>\n",
       "      <td id=\"T_cba78_row4_col33\" class=\"data row4 col33\" >GLQ</td>\n",
       "      <td id=\"T_cba78_row4_col34\" class=\"data row4 col34\" >655</td>\n",
       "      <td id=\"T_cba78_row4_col35\" class=\"data row4 col35\" >Unf</td>\n",
       "      <td id=\"T_cba78_row4_col36\" class=\"data row4 col36\" >0</td>\n",
       "      <td id=\"T_cba78_row4_col37\" class=\"data row4 col37\" >490</td>\n",
       "      <td id=\"T_cba78_row4_col38\" class=\"data row4 col38\" >1145</td>\n",
       "      <td id=\"T_cba78_row4_col39\" class=\"data row4 col39\" >GasA</td>\n",
       "      <td id=\"T_cba78_row4_col40\" class=\"data row4 col40\" >Ex</td>\n",
       "      <td id=\"T_cba78_row4_col41\" class=\"data row4 col41\" >Y</td>\n",
       "      <td id=\"T_cba78_row4_col42\" class=\"data row4 col42\" >SBrkr</td>\n",
       "      <td id=\"T_cba78_row4_col43\" class=\"data row4 col43\" >1145</td>\n",
       "      <td id=\"T_cba78_row4_col44\" class=\"data row4 col44\" >1053</td>\n",
       "      <td id=\"T_cba78_row4_col45\" class=\"data row4 col45\" >0</td>\n",
       "      <td id=\"T_cba78_row4_col46\" class=\"data row4 col46\" >2198</td>\n",
       "      <td id=\"T_cba78_row4_col47\" class=\"data row4 col47\" >1</td>\n",
       "      <td id=\"T_cba78_row4_col48\" class=\"data row4 col48\" >0</td>\n",
       "      <td id=\"T_cba78_row4_col49\" class=\"data row4 col49\" >2</td>\n",
       "      <td id=\"T_cba78_row4_col50\" class=\"data row4 col50\" >1</td>\n",
       "      <td id=\"T_cba78_row4_col51\" class=\"data row4 col51\" >4</td>\n",
       "      <td id=\"T_cba78_row4_col52\" class=\"data row4 col52\" >1</td>\n",
       "      <td id=\"T_cba78_row4_col53\" class=\"data row4 col53\" >Gd</td>\n",
       "      <td id=\"T_cba78_row4_col54\" class=\"data row4 col54\" >9</td>\n",
       "      <td id=\"T_cba78_row4_col55\" class=\"data row4 col55\" >Typ</td>\n",
       "      <td id=\"T_cba78_row4_col56\" class=\"data row4 col56\" >1</td>\n",
       "      <td id=\"T_cba78_row4_col57\" class=\"data row4 col57\" >TA</td>\n",
       "      <td id=\"T_cba78_row4_col58\" class=\"data row4 col58\" >Attchd</td>\n",
       "      <td id=\"T_cba78_row4_col59\" class=\"data row4 col59\" >2000.000000</td>\n",
       "      <td id=\"T_cba78_row4_col60\" class=\"data row4 col60\" >RFn</td>\n",
       "      <td id=\"T_cba78_row4_col61\" class=\"data row4 col61\" >3</td>\n",
       "      <td id=\"T_cba78_row4_col62\" class=\"data row4 col62\" >836</td>\n",
       "      <td id=\"T_cba78_row4_col63\" class=\"data row4 col63\" >TA</td>\n",
       "      <td id=\"T_cba78_row4_col64\" class=\"data row4 col64\" >TA</td>\n",
       "      <td id=\"T_cba78_row4_col65\" class=\"data row4 col65\" >Y</td>\n",
       "      <td id=\"T_cba78_row4_col66\" class=\"data row4 col66\" >192</td>\n",
       "      <td id=\"T_cba78_row4_col67\" class=\"data row4 col67\" >84</td>\n",
       "      <td id=\"T_cba78_row4_col68\" class=\"data row4 col68\" >0</td>\n",
       "      <td id=\"T_cba78_row4_col69\" class=\"data row4 col69\" >0</td>\n",
       "      <td id=\"T_cba78_row4_col70\" class=\"data row4 col70\" >0</td>\n",
       "      <td id=\"T_cba78_row4_col71\" class=\"data row4 col71\" >0</td>\n",
       "      <td id=\"T_cba78_row4_col72\" class=\"data row4 col72\" >nan</td>\n",
       "      <td id=\"T_cba78_row4_col73\" class=\"data row4 col73\" >nan</td>\n",
       "      <td id=\"T_cba78_row4_col74\" class=\"data row4 col74\" >nan</td>\n",
       "      <td id=\"T_cba78_row4_col75\" class=\"data row4 col75\" >0</td>\n",
       "      <td id=\"T_cba78_row4_col76\" class=\"data row4 col76\" >12</td>\n",
       "      <td id=\"T_cba78_row4_col77\" class=\"data row4 col77\" >2008</td>\n",
       "      <td id=\"T_cba78_row4_col78\" class=\"data row4 col78\" >WD</td>\n",
       "      <td id=\"T_cba78_row4_col79\" class=\"data row4 col79\" >Normal</td>\n",
       "      <td id=\"T_cba78_row4_col80\" class=\"data row4 col80\" >250000</td>\n",
       "    </tr>\n",
       "  </tbody>\n",
       "</table>\n"
      ],
      "text/plain": [
       "<pandas.io.formats.style.Styler at 0x7f8d85d79450>"
      ]
     },
     "execution_count": 3,
     "metadata": {},
     "output_type": "execute_result"
    }
   ],
   "source": [
    "df_train=pd.read_csv(\"../input/house-prices-advanced-regression-techniques/train.csv\")\n",
    "df_train.head().style.set_properties(**{\"background-color\": \"#98FB98\",\"color\": \"black\", \"border-color\": \"black\"})"
   ]
  },
  {
   "cell_type": "code",
   "execution_count": 4,
   "id": "c9a133ba",
   "metadata": {
    "execution": {
     "iopub.execute_input": "2021-11-05T14:04:52.041152Z",
     "iopub.status.busy": "2021-11-05T14:04:52.040449Z",
     "iopub.status.idle": "2021-11-05T14:04:52.095663Z",
     "shell.execute_reply": "2021-11-05T14:04:52.096134Z",
     "shell.execute_reply.started": "2021-11-05T13:32:32.902413Z"
    },
    "papermill": {
     "duration": 0.078384,
     "end_time": "2021-11-05T14:04:52.096347",
     "exception": false,
     "start_time": "2021-11-05T14:04:52.017963",
     "status": "completed"
    },
    "tags": []
   },
   "outputs": [
    {
     "data": {
      "text/html": [
       "<div>\n",
       "<style scoped>\n",
       "    .dataframe tbody tr th:only-of-type {\n",
       "        vertical-align: middle;\n",
       "    }\n",
       "\n",
       "    .dataframe tbody tr th {\n",
       "        vertical-align: top;\n",
       "    }\n",
       "\n",
       "    .dataframe thead th {\n",
       "        text-align: right;\n",
       "    }\n",
       "</style>\n",
       "<table border=\"1\" class=\"dataframe\">\n",
       "  <thead>\n",
       "    <tr style=\"text-align: right;\">\n",
       "      <th></th>\n",
       "      <th>Id</th>\n",
       "      <th>MSSubClass</th>\n",
       "      <th>MSZoning</th>\n",
       "      <th>LotFrontage</th>\n",
       "      <th>LotArea</th>\n",
       "      <th>Street</th>\n",
       "      <th>Alley</th>\n",
       "      <th>LotShape</th>\n",
       "      <th>LandContour</th>\n",
       "      <th>Utilities</th>\n",
       "      <th>...</th>\n",
       "      <th>ScreenPorch</th>\n",
       "      <th>PoolArea</th>\n",
       "      <th>PoolQC</th>\n",
       "      <th>Fence</th>\n",
       "      <th>MiscFeature</th>\n",
       "      <th>MiscVal</th>\n",
       "      <th>MoSold</th>\n",
       "      <th>YrSold</th>\n",
       "      <th>SaleType</th>\n",
       "      <th>SaleCondition</th>\n",
       "    </tr>\n",
       "  </thead>\n",
       "  <tbody>\n",
       "    <tr>\n",
       "      <th>0</th>\n",
       "      <td>1461</td>\n",
       "      <td>20</td>\n",
       "      <td>RH</td>\n",
       "      <td>80.0</td>\n",
       "      <td>11622</td>\n",
       "      <td>Pave</td>\n",
       "      <td>NaN</td>\n",
       "      <td>Reg</td>\n",
       "      <td>Lvl</td>\n",
       "      <td>AllPub</td>\n",
       "      <td>...</td>\n",
       "      <td>120</td>\n",
       "      <td>0</td>\n",
       "      <td>NaN</td>\n",
       "      <td>MnPrv</td>\n",
       "      <td>NaN</td>\n",
       "      <td>0</td>\n",
       "      <td>6</td>\n",
       "      <td>2010</td>\n",
       "      <td>WD</td>\n",
       "      <td>Normal</td>\n",
       "    </tr>\n",
       "    <tr>\n",
       "      <th>1</th>\n",
       "      <td>1462</td>\n",
       "      <td>20</td>\n",
       "      <td>RL</td>\n",
       "      <td>81.0</td>\n",
       "      <td>14267</td>\n",
       "      <td>Pave</td>\n",
       "      <td>NaN</td>\n",
       "      <td>IR1</td>\n",
       "      <td>Lvl</td>\n",
       "      <td>AllPub</td>\n",
       "      <td>...</td>\n",
       "      <td>0</td>\n",
       "      <td>0</td>\n",
       "      <td>NaN</td>\n",
       "      <td>NaN</td>\n",
       "      <td>Gar2</td>\n",
       "      <td>12500</td>\n",
       "      <td>6</td>\n",
       "      <td>2010</td>\n",
       "      <td>WD</td>\n",
       "      <td>Normal</td>\n",
       "    </tr>\n",
       "    <tr>\n",
       "      <th>2</th>\n",
       "      <td>1463</td>\n",
       "      <td>60</td>\n",
       "      <td>RL</td>\n",
       "      <td>74.0</td>\n",
       "      <td>13830</td>\n",
       "      <td>Pave</td>\n",
       "      <td>NaN</td>\n",
       "      <td>IR1</td>\n",
       "      <td>Lvl</td>\n",
       "      <td>AllPub</td>\n",
       "      <td>...</td>\n",
       "      <td>0</td>\n",
       "      <td>0</td>\n",
       "      <td>NaN</td>\n",
       "      <td>MnPrv</td>\n",
       "      <td>NaN</td>\n",
       "      <td>0</td>\n",
       "      <td>3</td>\n",
       "      <td>2010</td>\n",
       "      <td>WD</td>\n",
       "      <td>Normal</td>\n",
       "    </tr>\n",
       "    <tr>\n",
       "      <th>3</th>\n",
       "      <td>1464</td>\n",
       "      <td>60</td>\n",
       "      <td>RL</td>\n",
       "      <td>78.0</td>\n",
       "      <td>9978</td>\n",
       "      <td>Pave</td>\n",
       "      <td>NaN</td>\n",
       "      <td>IR1</td>\n",
       "      <td>Lvl</td>\n",
       "      <td>AllPub</td>\n",
       "      <td>...</td>\n",
       "      <td>0</td>\n",
       "      <td>0</td>\n",
       "      <td>NaN</td>\n",
       "      <td>NaN</td>\n",
       "      <td>NaN</td>\n",
       "      <td>0</td>\n",
       "      <td>6</td>\n",
       "      <td>2010</td>\n",
       "      <td>WD</td>\n",
       "      <td>Normal</td>\n",
       "    </tr>\n",
       "    <tr>\n",
       "      <th>4</th>\n",
       "      <td>1465</td>\n",
       "      <td>120</td>\n",
       "      <td>RL</td>\n",
       "      <td>43.0</td>\n",
       "      <td>5005</td>\n",
       "      <td>Pave</td>\n",
       "      <td>NaN</td>\n",
       "      <td>IR1</td>\n",
       "      <td>HLS</td>\n",
       "      <td>AllPub</td>\n",
       "      <td>...</td>\n",
       "      <td>144</td>\n",
       "      <td>0</td>\n",
       "      <td>NaN</td>\n",
       "      <td>NaN</td>\n",
       "      <td>NaN</td>\n",
       "      <td>0</td>\n",
       "      <td>1</td>\n",
       "      <td>2010</td>\n",
       "      <td>WD</td>\n",
       "      <td>Normal</td>\n",
       "    </tr>\n",
       "  </tbody>\n",
       "</table>\n",
       "<p>5 rows × 80 columns</p>\n",
       "</div>"
      ],
      "text/plain": [
       "     Id  MSSubClass MSZoning  LotFrontage  LotArea Street Alley LotShape  \\\n",
       "0  1461          20       RH         80.0    11622   Pave   NaN      Reg   \n",
       "1  1462          20       RL         81.0    14267   Pave   NaN      IR1   \n",
       "2  1463          60       RL         74.0    13830   Pave   NaN      IR1   \n",
       "3  1464          60       RL         78.0     9978   Pave   NaN      IR1   \n",
       "4  1465         120       RL         43.0     5005   Pave   NaN      IR1   \n",
       "\n",
       "  LandContour Utilities  ... ScreenPorch PoolArea PoolQC  Fence MiscFeature  \\\n",
       "0         Lvl    AllPub  ...         120        0    NaN  MnPrv         NaN   \n",
       "1         Lvl    AllPub  ...           0        0    NaN    NaN        Gar2   \n",
       "2         Lvl    AllPub  ...           0        0    NaN  MnPrv         NaN   \n",
       "3         Lvl    AllPub  ...           0        0    NaN    NaN         NaN   \n",
       "4         HLS    AllPub  ...         144        0    NaN    NaN         NaN   \n",
       "\n",
       "  MiscVal MoSold  YrSold  SaleType  SaleCondition  \n",
       "0       0      6    2010        WD         Normal  \n",
       "1   12500      6    2010        WD         Normal  \n",
       "2       0      3    2010        WD         Normal  \n",
       "3       0      6    2010        WD         Normal  \n",
       "4       0      1    2010        WD         Normal  \n",
       "\n",
       "[5 rows x 80 columns]"
      ]
     },
     "execution_count": 4,
     "metadata": {},
     "output_type": "execute_result"
    }
   ],
   "source": [
    "df_test=pd.read_csv(\"../input/house-prices-advanced-regression-techniques/test.csv\")\n",
    "df_test.head()\n"
   ]
  },
  {
   "cell_type": "code",
   "execution_count": 5,
   "id": "1470c789",
   "metadata": {
    "execution": {
     "iopub.execute_input": "2021-11-05T14:04:52.140463Z",
     "iopub.status.busy": "2021-11-05T14:04:52.139764Z",
     "iopub.status.idle": "2021-11-05T14:04:52.153192Z",
     "shell.execute_reply": "2021-11-05T14:04:52.153741Z",
     "shell.execute_reply.started": "2021-11-05T13:32:32.952707Z"
    },
    "papermill": {
     "duration": 0.037255,
     "end_time": "2021-11-05T14:04:52.153942",
     "exception": false,
     "start_time": "2021-11-05T14:04:52.116687",
     "status": "completed"
    },
    "tags": []
   },
   "outputs": [],
   "source": [
    "df_submission = pd.read_csv('../input/house-prices-advanced-regression-techniques/sample_submission.csv')"
   ]
  },
  {
   "cell_type": "code",
   "execution_count": 6,
   "id": "c175749c",
   "metadata": {
    "execution": {
     "iopub.execute_input": "2021-11-05T14:04:52.197582Z",
     "iopub.status.busy": "2021-11-05T14:04:52.196936Z",
     "iopub.status.idle": "2021-11-05T14:04:52.204665Z",
     "shell.execute_reply": "2021-11-05T14:04:52.205221Z",
     "shell.execute_reply.started": "2021-11-05T13:32:32.961452Z"
    },
    "papermill": {
     "duration": 0.031297,
     "end_time": "2021-11-05T14:04:52.205437",
     "exception": false,
     "start_time": "2021-11-05T14:04:52.174140",
     "status": "completed"
    },
    "tags": []
   },
   "outputs": [
    {
     "data": {
      "text/html": [
       "<div>\n",
       "<style scoped>\n",
       "    .dataframe tbody tr th:only-of-type {\n",
       "        vertical-align: middle;\n",
       "    }\n",
       "\n",
       "    .dataframe tbody tr th {\n",
       "        vertical-align: top;\n",
       "    }\n",
       "\n",
       "    .dataframe thead th {\n",
       "        text-align: right;\n",
       "    }\n",
       "</style>\n",
       "<table border=\"1\" class=\"dataframe\">\n",
       "  <thead>\n",
       "    <tr style=\"text-align: right;\">\n",
       "      <th></th>\n",
       "      <th>Id</th>\n",
       "      <th>SalePrice</th>\n",
       "    </tr>\n",
       "  </thead>\n",
       "  <tbody>\n",
       "    <tr>\n",
       "      <th>0</th>\n",
       "      <td>1461</td>\n",
       "      <td>169277.052498</td>\n",
       "    </tr>\n",
       "    <tr>\n",
       "      <th>1</th>\n",
       "      <td>1462</td>\n",
       "      <td>187758.393989</td>\n",
       "    </tr>\n",
       "    <tr>\n",
       "      <th>2</th>\n",
       "      <td>1463</td>\n",
       "      <td>183583.683570</td>\n",
       "    </tr>\n",
       "    <tr>\n",
       "      <th>3</th>\n",
       "      <td>1464</td>\n",
       "      <td>179317.477511</td>\n",
       "    </tr>\n",
       "    <tr>\n",
       "      <th>4</th>\n",
       "      <td>1465</td>\n",
       "      <td>150730.079977</td>\n",
       "    </tr>\n",
       "  </tbody>\n",
       "</table>\n",
       "</div>"
      ],
      "text/plain": [
       "     Id      SalePrice\n",
       "0  1461  169277.052498\n",
       "1  1462  187758.393989\n",
       "2  1463  183583.683570\n",
       "3  1464  179317.477511\n",
       "4  1465  150730.079977"
      ]
     },
     "execution_count": 6,
     "metadata": {},
     "output_type": "execute_result"
    }
   ],
   "source": [
    "df_submission.head()"
   ]
  },
  {
   "cell_type": "code",
   "execution_count": 7,
   "id": "2fd56bfb",
   "metadata": {
    "execution": {
     "iopub.execute_input": "2021-11-05T14:04:52.249886Z",
     "iopub.status.busy": "2021-11-05T14:04:52.249181Z",
     "iopub.status.idle": "2021-11-05T14:04:52.260043Z",
     "shell.execute_reply": "2021-11-05T14:04:52.260613Z",
     "shell.execute_reply.started": "2021-11-05T13:32:32.974732Z"
    },
    "papermill": {
     "duration": 0.034884,
     "end_time": "2021-11-05T14:04:52.260825",
     "exception": false,
     "start_time": "2021-11-05T14:04:52.225941",
     "status": "completed"
    },
    "tags": []
   },
   "outputs": [],
   "source": [
    "%config Completer.use_jedi = False"
   ]
  },
  {
   "cell_type": "code",
   "execution_count": 8,
   "id": "376b997e",
   "metadata": {
    "execution": {
     "iopub.execute_input": "2021-11-05T14:04:52.306911Z",
     "iopub.status.busy": "2021-11-05T14:04:52.306193Z",
     "iopub.status.idle": "2021-11-05T14:04:52.307688Z",
     "shell.execute_reply": "2021-11-05T14:04:52.308228Z",
     "shell.execute_reply.started": "2021-11-05T13:32:32.993939Z"
    },
    "papermill": {
     "duration": 0.026906,
     "end_time": "2021-11-05T14:04:52.308440",
     "exception": false,
     "start_time": "2021-11-05T14:04:52.281534",
     "status": "completed"
    },
    "tags": []
   },
   "outputs": [],
   "source": [
    "# Not reading file for some reason\n",
    "#df_text = pd.read_csv('../input/house-prices-advanced-regression-techniques/data_description.txt')"
   ]
  },
  {
   "cell_type": "code",
   "execution_count": 9,
   "id": "9cc52cb4",
   "metadata": {
    "execution": {
     "iopub.execute_input": "2021-11-05T14:04:52.354808Z",
     "iopub.status.busy": "2021-11-05T14:04:52.354148Z",
     "iopub.status.idle": "2021-11-05T14:04:52.449122Z",
     "shell.execute_reply": "2021-11-05T14:04:52.448557Z",
     "shell.execute_reply.started": "2021-11-05T13:32:33.003064Z"
    },
    "papermill": {
     "duration": 0.119885,
     "end_time": "2021-11-05T14:04:52.449273",
     "exception": false,
     "start_time": "2021-11-05T14:04:52.329388",
     "status": "completed"
    },
    "tags": []
   },
   "outputs": [
    {
     "data": {
      "text/html": [
       "<div>\n",
       "<style scoped>\n",
       "    .dataframe tbody tr th:only-of-type {\n",
       "        vertical-align: middle;\n",
       "    }\n",
       "\n",
       "    .dataframe tbody tr th {\n",
       "        vertical-align: top;\n",
       "    }\n",
       "\n",
       "    .dataframe thead th {\n",
       "        text-align: right;\n",
       "    }\n",
       "</style>\n",
       "<table border=\"1\" class=\"dataframe\">\n",
       "  <thead>\n",
       "    <tr style=\"text-align: right;\">\n",
       "      <th></th>\n",
       "      <th>Id</th>\n",
       "      <th>MSSubClass</th>\n",
       "      <th>LotFrontage</th>\n",
       "      <th>LotArea</th>\n",
       "      <th>OverallQual</th>\n",
       "      <th>OverallCond</th>\n",
       "      <th>YearBuilt</th>\n",
       "      <th>YearRemodAdd</th>\n",
       "      <th>MasVnrArea</th>\n",
       "      <th>BsmtFinSF1</th>\n",
       "      <th>...</th>\n",
       "      <th>WoodDeckSF</th>\n",
       "      <th>OpenPorchSF</th>\n",
       "      <th>EnclosedPorch</th>\n",
       "      <th>3SsnPorch</th>\n",
       "      <th>ScreenPorch</th>\n",
       "      <th>PoolArea</th>\n",
       "      <th>MiscVal</th>\n",
       "      <th>MoSold</th>\n",
       "      <th>YrSold</th>\n",
       "      <th>SalePrice</th>\n",
       "    </tr>\n",
       "  </thead>\n",
       "  <tbody>\n",
       "    <tr>\n",
       "      <th>count</th>\n",
       "      <td>1460.000000</td>\n",
       "      <td>1460.000000</td>\n",
       "      <td>1201.000000</td>\n",
       "      <td>1460.000000</td>\n",
       "      <td>1460.000000</td>\n",
       "      <td>1460.000000</td>\n",
       "      <td>1460.000000</td>\n",
       "      <td>1460.000000</td>\n",
       "      <td>1452.000000</td>\n",
       "      <td>1460.000000</td>\n",
       "      <td>...</td>\n",
       "      <td>1460.000000</td>\n",
       "      <td>1460.000000</td>\n",
       "      <td>1460.000000</td>\n",
       "      <td>1460.000000</td>\n",
       "      <td>1460.000000</td>\n",
       "      <td>1460.000000</td>\n",
       "      <td>1460.000000</td>\n",
       "      <td>1460.000000</td>\n",
       "      <td>1460.000000</td>\n",
       "      <td>1460.000000</td>\n",
       "    </tr>\n",
       "    <tr>\n",
       "      <th>mean</th>\n",
       "      <td>730.500000</td>\n",
       "      <td>56.897260</td>\n",
       "      <td>70.049958</td>\n",
       "      <td>10516.828082</td>\n",
       "      <td>6.099315</td>\n",
       "      <td>5.575342</td>\n",
       "      <td>1971.267808</td>\n",
       "      <td>1984.865753</td>\n",
       "      <td>103.685262</td>\n",
       "      <td>443.639726</td>\n",
       "      <td>...</td>\n",
       "      <td>94.244521</td>\n",
       "      <td>46.660274</td>\n",
       "      <td>21.954110</td>\n",
       "      <td>3.409589</td>\n",
       "      <td>15.060959</td>\n",
       "      <td>2.758904</td>\n",
       "      <td>43.489041</td>\n",
       "      <td>6.321918</td>\n",
       "      <td>2007.815753</td>\n",
       "      <td>180921.195890</td>\n",
       "    </tr>\n",
       "    <tr>\n",
       "      <th>std</th>\n",
       "      <td>421.610009</td>\n",
       "      <td>42.300571</td>\n",
       "      <td>24.284752</td>\n",
       "      <td>9981.264932</td>\n",
       "      <td>1.382997</td>\n",
       "      <td>1.112799</td>\n",
       "      <td>30.202904</td>\n",
       "      <td>20.645407</td>\n",
       "      <td>181.066207</td>\n",
       "      <td>456.098091</td>\n",
       "      <td>...</td>\n",
       "      <td>125.338794</td>\n",
       "      <td>66.256028</td>\n",
       "      <td>61.119149</td>\n",
       "      <td>29.317331</td>\n",
       "      <td>55.757415</td>\n",
       "      <td>40.177307</td>\n",
       "      <td>496.123024</td>\n",
       "      <td>2.703626</td>\n",
       "      <td>1.328095</td>\n",
       "      <td>79442.502883</td>\n",
       "    </tr>\n",
       "    <tr>\n",
       "      <th>min</th>\n",
       "      <td>1.000000</td>\n",
       "      <td>20.000000</td>\n",
       "      <td>21.000000</td>\n",
       "      <td>1300.000000</td>\n",
       "      <td>1.000000</td>\n",
       "      <td>1.000000</td>\n",
       "      <td>1872.000000</td>\n",
       "      <td>1950.000000</td>\n",
       "      <td>0.000000</td>\n",
       "      <td>0.000000</td>\n",
       "      <td>...</td>\n",
       "      <td>0.000000</td>\n",
       "      <td>0.000000</td>\n",
       "      <td>0.000000</td>\n",
       "      <td>0.000000</td>\n",
       "      <td>0.000000</td>\n",
       "      <td>0.000000</td>\n",
       "      <td>0.000000</td>\n",
       "      <td>1.000000</td>\n",
       "      <td>2006.000000</td>\n",
       "      <td>34900.000000</td>\n",
       "    </tr>\n",
       "    <tr>\n",
       "      <th>25%</th>\n",
       "      <td>365.750000</td>\n",
       "      <td>20.000000</td>\n",
       "      <td>59.000000</td>\n",
       "      <td>7553.500000</td>\n",
       "      <td>5.000000</td>\n",
       "      <td>5.000000</td>\n",
       "      <td>1954.000000</td>\n",
       "      <td>1967.000000</td>\n",
       "      <td>0.000000</td>\n",
       "      <td>0.000000</td>\n",
       "      <td>...</td>\n",
       "      <td>0.000000</td>\n",
       "      <td>0.000000</td>\n",
       "      <td>0.000000</td>\n",
       "      <td>0.000000</td>\n",
       "      <td>0.000000</td>\n",
       "      <td>0.000000</td>\n",
       "      <td>0.000000</td>\n",
       "      <td>5.000000</td>\n",
       "      <td>2007.000000</td>\n",
       "      <td>129975.000000</td>\n",
       "    </tr>\n",
       "    <tr>\n",
       "      <th>50%</th>\n",
       "      <td>730.500000</td>\n",
       "      <td>50.000000</td>\n",
       "      <td>69.000000</td>\n",
       "      <td>9478.500000</td>\n",
       "      <td>6.000000</td>\n",
       "      <td>5.000000</td>\n",
       "      <td>1973.000000</td>\n",
       "      <td>1994.000000</td>\n",
       "      <td>0.000000</td>\n",
       "      <td>383.500000</td>\n",
       "      <td>...</td>\n",
       "      <td>0.000000</td>\n",
       "      <td>25.000000</td>\n",
       "      <td>0.000000</td>\n",
       "      <td>0.000000</td>\n",
       "      <td>0.000000</td>\n",
       "      <td>0.000000</td>\n",
       "      <td>0.000000</td>\n",
       "      <td>6.000000</td>\n",
       "      <td>2008.000000</td>\n",
       "      <td>163000.000000</td>\n",
       "    </tr>\n",
       "    <tr>\n",
       "      <th>75%</th>\n",
       "      <td>1095.250000</td>\n",
       "      <td>70.000000</td>\n",
       "      <td>80.000000</td>\n",
       "      <td>11601.500000</td>\n",
       "      <td>7.000000</td>\n",
       "      <td>6.000000</td>\n",
       "      <td>2000.000000</td>\n",
       "      <td>2004.000000</td>\n",
       "      <td>166.000000</td>\n",
       "      <td>712.250000</td>\n",
       "      <td>...</td>\n",
       "      <td>168.000000</td>\n",
       "      <td>68.000000</td>\n",
       "      <td>0.000000</td>\n",
       "      <td>0.000000</td>\n",
       "      <td>0.000000</td>\n",
       "      <td>0.000000</td>\n",
       "      <td>0.000000</td>\n",
       "      <td>8.000000</td>\n",
       "      <td>2009.000000</td>\n",
       "      <td>214000.000000</td>\n",
       "    </tr>\n",
       "    <tr>\n",
       "      <th>max</th>\n",
       "      <td>1460.000000</td>\n",
       "      <td>190.000000</td>\n",
       "      <td>313.000000</td>\n",
       "      <td>215245.000000</td>\n",
       "      <td>10.000000</td>\n",
       "      <td>9.000000</td>\n",
       "      <td>2010.000000</td>\n",
       "      <td>2010.000000</td>\n",
       "      <td>1600.000000</td>\n",
       "      <td>5644.000000</td>\n",
       "      <td>...</td>\n",
       "      <td>857.000000</td>\n",
       "      <td>547.000000</td>\n",
       "      <td>552.000000</td>\n",
       "      <td>508.000000</td>\n",
       "      <td>480.000000</td>\n",
       "      <td>738.000000</td>\n",
       "      <td>15500.000000</td>\n",
       "      <td>12.000000</td>\n",
       "      <td>2010.000000</td>\n",
       "      <td>755000.000000</td>\n",
       "    </tr>\n",
       "  </tbody>\n",
       "</table>\n",
       "<p>8 rows × 38 columns</p>\n",
       "</div>"
      ],
      "text/plain": [
       "                Id   MSSubClass  LotFrontage        LotArea  OverallQual  \\\n",
       "count  1460.000000  1460.000000  1201.000000    1460.000000  1460.000000   \n",
       "mean    730.500000    56.897260    70.049958   10516.828082     6.099315   \n",
       "std     421.610009    42.300571    24.284752    9981.264932     1.382997   \n",
       "min       1.000000    20.000000    21.000000    1300.000000     1.000000   \n",
       "25%     365.750000    20.000000    59.000000    7553.500000     5.000000   \n",
       "50%     730.500000    50.000000    69.000000    9478.500000     6.000000   \n",
       "75%    1095.250000    70.000000    80.000000   11601.500000     7.000000   \n",
       "max    1460.000000   190.000000   313.000000  215245.000000    10.000000   \n",
       "\n",
       "       OverallCond    YearBuilt  YearRemodAdd   MasVnrArea   BsmtFinSF1  ...  \\\n",
       "count  1460.000000  1460.000000   1460.000000  1452.000000  1460.000000  ...   \n",
       "mean      5.575342  1971.267808   1984.865753   103.685262   443.639726  ...   \n",
       "std       1.112799    30.202904     20.645407   181.066207   456.098091  ...   \n",
       "min       1.000000  1872.000000   1950.000000     0.000000     0.000000  ...   \n",
       "25%       5.000000  1954.000000   1967.000000     0.000000     0.000000  ...   \n",
       "50%       5.000000  1973.000000   1994.000000     0.000000   383.500000  ...   \n",
       "75%       6.000000  2000.000000   2004.000000   166.000000   712.250000  ...   \n",
       "max       9.000000  2010.000000   2010.000000  1600.000000  5644.000000  ...   \n",
       "\n",
       "        WoodDeckSF  OpenPorchSF  EnclosedPorch    3SsnPorch  ScreenPorch  \\\n",
       "count  1460.000000  1460.000000    1460.000000  1460.000000  1460.000000   \n",
       "mean     94.244521    46.660274      21.954110     3.409589    15.060959   \n",
       "std     125.338794    66.256028      61.119149    29.317331    55.757415   \n",
       "min       0.000000     0.000000       0.000000     0.000000     0.000000   \n",
       "25%       0.000000     0.000000       0.000000     0.000000     0.000000   \n",
       "50%       0.000000    25.000000       0.000000     0.000000     0.000000   \n",
       "75%     168.000000    68.000000       0.000000     0.000000     0.000000   \n",
       "max     857.000000   547.000000     552.000000   508.000000   480.000000   \n",
       "\n",
       "          PoolArea       MiscVal       MoSold       YrSold      SalePrice  \n",
       "count  1460.000000   1460.000000  1460.000000  1460.000000    1460.000000  \n",
       "mean      2.758904     43.489041     6.321918  2007.815753  180921.195890  \n",
       "std      40.177307    496.123024     2.703626     1.328095   79442.502883  \n",
       "min       0.000000      0.000000     1.000000  2006.000000   34900.000000  \n",
       "25%       0.000000      0.000000     5.000000  2007.000000  129975.000000  \n",
       "50%       0.000000      0.000000     6.000000  2008.000000  163000.000000  \n",
       "75%       0.000000      0.000000     8.000000  2009.000000  214000.000000  \n",
       "max     738.000000  15500.000000    12.000000  2010.000000  755000.000000  \n",
       "\n",
       "[8 rows x 38 columns]"
      ]
     },
     "execution_count": 9,
     "metadata": {},
     "output_type": "execute_result"
    }
   ],
   "source": [
    "\n",
    "df_train.describe()"
   ]
  },
  {
   "cell_type": "code",
   "execution_count": 10,
   "id": "2da423d1",
   "metadata": {
    "execution": {
     "iopub.execute_input": "2021-11-05T14:04:52.496129Z",
     "iopub.status.busy": "2021-11-05T14:04:52.495198Z",
     "iopub.status.idle": "2021-11-05T14:04:52.502930Z",
     "shell.execute_reply": "2021-11-05T14:04:52.503370Z",
     "shell.execute_reply.started": "2021-11-05T13:32:33.114382Z"
    },
    "papermill": {
     "duration": 0.033035,
     "end_time": "2021-11-05T14:04:52.503553",
     "exception": false,
     "start_time": "2021-11-05T14:04:52.470518",
     "status": "completed"
    },
    "tags": []
   },
   "outputs": [],
   "source": [
    "target = 'SalePrice'\n",
    "features = [feature for feature in df_train.columns if feature not in  ['SalePrice','Id','id']]\n",
    "numerical = [feature for feature in features if df_train[feature].dtypes != 'O']\n",
    "categorical =[feature for feature in features if feature not in numerical]\n",
    "\n",
    "\n"
   ]
  },
  {
   "cell_type": "code",
   "execution_count": 11,
   "id": "93861b4d",
   "metadata": {
    "execution": {
     "iopub.execute_input": "2021-11-05T14:04:52.549797Z",
     "iopub.status.busy": "2021-11-05T14:04:52.548870Z",
     "iopub.status.idle": "2021-11-05T14:04:53.511904Z",
     "shell.execute_reply": "2021-11-05T14:04:53.511378Z",
     "shell.execute_reply.started": "2021-11-05T13:32:33.125406Z"
    },
    "papermill": {
     "duration": 0.986921,
     "end_time": "2021-11-05T14:04:53.512058",
     "exception": false,
     "start_time": "2021-11-05T14:04:52.525137",
     "status": "completed"
    },
    "tags": []
   },
   "outputs": [
    {
     "data": {
      "image/png": "[encoded data removed]",
      "text/plain": [
       "<Figure size 432x288 with 1 Axes>"
      ]
     },
     "metadata": {
      "needs_background": "light"
     },
     "output_type": "display_data"
    },
    {
     "data": {
      "image/png": "[encoded data removed]",
      "text/plain": [
       "<Figure size 432x288 with 1 Axes>"
      ]
     },
     "metadata": {
      "needs_background": "light"
     },
     "output_type": "display_data"
    },
    {
     "data": {
      "image/png": "[encoded data removed]",
      "text/plain": [
       "<Figure size 432x288 with 1 Axes>"
      ]
     },
     "metadata": {
      "needs_background": "light"
     },
     "output_type": "display_data"
    },
    {
     "data": {
      "image/png": "[encoded data removed]",
      "text/plain": [
       "<Figure size 432x288 with 1 Axes>"
      ]
     },
     "metadata": {
      "needs_background": "light"
     },
     "output_type": "display_data"
    },
    {
     "data": {
      "image/png": "[encoded data removed]",
      "text/plain": [
       "<Figure size 432x288 with 1 Axes>"
      ]
     },
     "metadata": {
      "needs_background": "light"
     },
     "output_type": "display_data"
    }
   ],
   "source": [
    "#Scatterplots to understand the shape of numerical data, first 5 columns\n",
    "for feature in numerical[:5]:\n",
    "    sns.scatterplot(x=df_train[feature], y = df_train.SalePrice ).set_title(feature)\n",
    "    plt.show()\n",
    "    \n",
    "    "
   ]
  },
  {
   "cell_type": "code",
   "execution_count": 12,
   "id": "9145ee98",
   "metadata": {
    "execution": {
     "iopub.execute_input": "2021-11-05T14:04:53.573405Z",
     "iopub.status.busy": "2021-11-05T14:04:53.572663Z",
     "iopub.status.idle": "2021-11-05T14:04:53.892284Z",
     "shell.execute_reply": "2021-11-05T14:04:53.892850Z",
     "shell.execute_reply.started": "2021-11-05T13:32:34.245330Z"
    },
    "papermill": {
     "duration": 0.354517,
     "end_time": "2021-11-05T14:04:53.893063",
     "exception": false,
     "start_time": "2021-11-05T14:04:53.538546",
     "status": "completed"
    },
    "tags": []
   },
   "outputs": [
    {
     "data": {
      "text/plain": [
       "<AxesSubplot:>"
      ]
     },
     "execution_count": 12,
     "metadata": {},
     "output_type": "execute_result"
    },
    {
     "data": {
      "image/png": "[encoded data removed]",
      "text/plain": [
       "<Figure size 432x288 with 2 Axes>"
      ]
     },
     "metadata": {
      "needs_background": "light"
     },
     "output_type": "display_data"
    }
   ],
   "source": [
    "# Need to check the features for correlation if we use linear regression and some feature have significant correlation, \n",
    "#i.e. ove 0.6, like year built etc.\n",
    "sns.heatmap(df_train.loc[:,numerical[:10]].corr())"
   ]
  },
  {
   "cell_type": "code",
   "execution_count": 13,
   "id": "f642f7a6",
   "metadata": {
    "execution": {
     "iopub.execute_input": "2021-11-05T14:04:53.954653Z",
     "iopub.status.busy": "2021-11-05T14:04:53.953982Z",
     "iopub.status.idle": "2021-11-05T14:04:53.975096Z",
     "shell.execute_reply": "2021-11-05T14:04:53.974465Z",
     "shell.execute_reply.started": "2021-11-05T13:32:34.643939Z"
    },
    "papermill": {
     "duration": 0.052729,
     "end_time": "2021-11-05T14:04:53.975284",
     "exception": false,
     "start_time": "2021-11-05T14:04:53.922555",
     "status": "completed"
    },
    "tags": []
   },
   "outputs": [],
   "source": [
    "# Need to fill in the empty rows\n",
    "for feature in numerical:\n",
    "    median = df_train[feature].median()\n",
    "    df_train[feature] = df_train[feature].fillna(median)\n",
    "    df_test[feature] = df_test[feature].fillna(median)\n",
    "        "
   ]
  },
  {
   "cell_type": "code",
   "execution_count": 14,
   "id": "819b4aca",
   "metadata": {
    "execution": {
     "iopub.execute_input": "2021-11-05T14:04:54.034044Z",
     "iopub.status.busy": "2021-11-05T14:04:54.033390Z",
     "iopub.status.idle": "2021-11-05T14:04:54.071021Z",
     "shell.execute_reply": "2021-11-05T14:04:54.071605Z",
     "shell.execute_reply.started": "2021-11-05T13:32:34.671019Z"
    },
    "papermill": {
     "duration": 0.068522,
     "end_time": "2021-11-05T14:04:54.071827",
     "exception": false,
     "start_time": "2021-11-05T14:04:54.003305",
     "status": "completed"
    },
    "tags": []
   },
   "outputs": [],
   "source": [
    "for feature in categorical:\n",
    "    df_train[feature] = df_train[feature].fillna('Null')\n",
    "    df_test[feature] = df_test[feature].fillna('Null')\n",
    "    "
   ]
  },
  {
   "cell_type": "code",
   "execution_count": 15,
   "id": "91a52ce8",
   "metadata": {
    "execution": {
     "iopub.execute_input": "2021-11-05T14:04:54.134469Z",
     "iopub.status.busy": "2021-11-05T14:04:54.133767Z",
     "iopub.status.idle": "2021-11-05T14:05:09.808633Z",
     "shell.execute_reply": "2021-11-05T14:05:09.809127Z",
     "shell.execute_reply.started": "2021-11-05T13:32:34.728871Z"
    },
    "papermill": {
     "duration": 15.709811,
     "end_time": "2021-11-05T14:05:09.809351",
     "exception": false,
     "start_time": "2021-11-05T14:04:54.099540",
     "status": "completed"
    },
    "tags": []
   },
   "outputs": [
    {
     "name": "stdout",
     "output_type": "stream",
     "text": [
      "Id\n"
     ]
    },
    {
     "data": {
      "image/png": "[encoded data removed]",
      "text/plain": [
       "<Figure size 432x288 with 1 Axes>"
      ]
     },
     "metadata": {
      "needs_background": "light"
     },
     "output_type": "display_data"
    },
    {
     "name": "stdout",
     "output_type": "stream",
     "text": [
      "MSZoning\n"
     ]
    },
    {
     "data": {
      "image/png": "[encoded data removed]",
      "text/plain": [
       "<Figure size 432x288 with 1 Axes>"
      ]
     },
     "metadata": {
      "needs_background": "light"
     },
     "output_type": "display_data"
    },
    {
     "name": "stdout",
     "output_type": "stream",
     "text": [
      "Street\n"
     ]
    },
    {
     "data": {
      "image/png": "[encoded data removed]",
      "text/plain": [
       "<Figure size 432x288 with 1 Axes>"
      ]
     },
     "metadata": {
      "needs_background": "light"
     },
     "output_type": "display_data"
    },
    {
     "name": "stdout",
     "output_type": "stream",
     "text": [
      "Alley\n"
     ]
    },
    {
     "data": {
      "image/png": "[encoded data removed]",
      "text/plain": [
       "<Figure size 432x288 with 1 Axes>"
      ]
     },
     "metadata": {
      "needs_background": "light"
     },
     "output_type": "display_data"
    },
    {
     "name": "stdout",
     "output_type": "stream",
     "text": [
      "LotShape\n"
     ]
    },
    {
     "data": {
      "image/png": "[encoded data removed]",
      "text/plain": [
       "<Figure size 432x288 with 1 Axes>"
      ]
     },
     "metadata": {
      "needs_background": "light"
     },
     "output_type": "display_data"
    },
    {
     "name": "stdout",
     "output_type": "stream",
     "text": [
      "LandContour\n"
     ]
    },
    {
     "data": {
      "image/png": "[encoded data removed]",
      "text/plain": [
       "<Figure size 432x288 with 1 Axes>"
      ]
     },
     "metadata": {
      "needs_background": "light"
     },
     "output_type": "display_data"
    }
   ],
   "source": [
    "counter = 0\n",
    "for feature in df_train.columns:\n",
    "    if feature not in numerical and counter <6:# and type(feature)!='NoneType':\n",
    "        print (feature)\n",
    "        sns.violinplot(x=feature, y='SalePrice', data=df_train)\n",
    "        counter+=1\n",
    "        plt.show()"
   ]
  },
  {
   "cell_type": "code",
   "execution_count": 16,
   "id": "e19661e7",
   "metadata": {
    "execution": {
     "iopub.execute_input": "2021-11-05T14:05:09.883304Z",
     "iopub.status.busy": "2021-11-05T14:05:09.882676Z",
     "iopub.status.idle": "2021-11-05T14:05:10.095910Z",
     "shell.execute_reply": "2021-11-05T14:05:10.095303Z",
     "shell.execute_reply.started": "2021-11-05T13:32:52.569598Z"
    },
    "papermill": {
     "duration": 0.252468,
     "end_time": "2021-11-05T14:05:10.096069",
     "exception": false,
     "start_time": "2021-11-05T14:05:09.843601",
     "status": "completed"
    },
    "tags": []
   },
   "outputs": [],
   "source": [
    "from catboost import CatBoostRegressor"
   ]
  },
  {
   "cell_type": "code",
   "execution_count": 17,
   "id": "8758ff42",
   "metadata": {
    "execution": {
     "iopub.execute_input": "2021-11-05T14:05:10.169806Z",
     "iopub.status.busy": "2021-11-05T14:05:10.169115Z",
     "iopub.status.idle": "2021-11-05T14:05:10.174960Z",
     "shell.execute_reply": "2021-11-05T14:05:10.175467Z",
     "shell.execute_reply.started": "2021-11-05T13:32:52.615055Z"
    },
    "papermill": {
     "duration": 0.045749,
     "end_time": "2021-11-05T14:05:10.175667",
     "exception": false,
     "start_time": "2021-11-05T14:05:10.129918",
     "status": "completed"
    },
    "tags": []
   },
   "outputs": [],
   "source": [
    "y_train= df_train[target]\n",
    "x_train = df_train[features]\n",
    "x_test = df_test[features] "
   ]
  },
  {
   "cell_type": "code",
   "execution_count": 18,
   "id": "78130a7b",
   "metadata": {
    "execution": {
     "iopub.execute_input": "2021-11-05T14:05:10.248726Z",
     "iopub.status.busy": "2021-11-05T14:05:10.248018Z",
     "iopub.status.idle": "2021-11-05T14:05:10.252550Z",
     "shell.execute_reply": "2021-11-05T14:05:10.253140Z",
     "shell.execute_reply.started": "2021-11-05T13:32:52.626404Z"
    },
    "papermill": {
     "duration": 0.044512,
     "end_time": "2021-11-05T14:05:10.253356",
     "exception": false,
     "start_time": "2021-11-05T14:05:10.208844",
     "status": "completed"
    },
    "tags": []
   },
   "outputs": [],
   "source": [
    "x_train_train, x_train_test,y_train_train, y_train_test = train_test_split(x_train,y_train,test_size=0.25) "
   ]
  },
  {
   "cell_type": "code",
   "execution_count": 19,
   "id": "7e18a758",
   "metadata": {
    "execution": {
     "iopub.execute_input": "2021-11-05T14:05:10.324653Z",
     "iopub.status.busy": "2021-11-05T14:05:10.324007Z",
     "iopub.status.idle": "2021-11-05T14:05:10.499812Z",
     "shell.execute_reply": "2021-11-05T14:05:10.499199Z",
     "shell.execute_reply.started": "2021-11-05T13:50:00.367955Z"
    },
    "papermill": {
     "duration": 0.21208,
     "end_time": "2021-11-05T14:05:10.499991",
     "exception": false,
     "start_time": "2021-11-05T14:05:10.287911",
     "status": "completed"
    },
    "tags": []
   },
   "outputs": [
    {
     "name": "stdout",
     "output_type": "stream",
     "text": [
      "180921.19589041095\n",
      "163000.0\n",
      "79442.50288288663\n"
     ]
    },
    {
     "data": {
      "image/png": "[encoded data removed]",
      "text/plain": [
       "<Figure size 432x288 with 1 Axes>"
      ]
     },
     "metadata": {
      "needs_background": "light"
     },
     "output_type": "display_data"
    }
   ],
   "source": [
    "plt.boxplot(df_train[target])\n",
    "print (df_train[target].mean())\n",
    "print (df_train[target].median())\n",
    "print (df_train[target].std())"
   ]
  },
  {
   "cell_type": "code",
   "execution_count": 20,
   "id": "bbf5e2a3",
   "metadata": {
    "execution": {
     "iopub.execute_input": "2021-11-05T14:05:10.581739Z",
     "iopub.status.busy": "2021-11-05T14:05:10.580794Z",
     "iopub.status.idle": "2021-11-05T14:05:10.583718Z",
     "shell.execute_reply": "2021-11-05T14:05:10.583156Z",
     "shell.execute_reply.started": "2021-11-05T13:37:04.558788Z"
    },
    "papermill": {
     "duration": 0.048195,
     "end_time": "2021-11-05T14:05:10.583897",
     "exception": false,
     "start_time": "2021-11-05T14:05:10.535702",
     "status": "completed"
    },
    "tags": []
   },
   "outputs": [],
   "source": [
    "model = CatBoostRegressor(loss_function='RMSE', cat_features=categorical)\n",
    "grid = {'iterations': [100, 150, 200],\n",
    "        'learning_rate': [0.03, 0.1],\n",
    "        'depth': [2, 4, 6, 8],\n",
    "        'l2_leaf_reg': [0.2, 0.5, 1, 3]}\n",
    "#model.grid_search(grid, x_train_train)"
   ]
  },
  {
   "cell_type": "code",
   "execution_count": 21,
   "id": "a460ed5a",
   "metadata": {
    "execution": {
     "iopub.execute_input": "2021-11-05T14:05:10.660284Z",
     "iopub.status.busy": "2021-11-05T14:05:10.659301Z",
     "iopub.status.idle": "2021-11-05T14:05:30.451137Z",
     "shell.execute_reply": "2021-11-05T14:05:30.451837Z",
     "shell.execute_reply.started": "2021-11-05T13:46:12.562141Z"
    },
    "papermill": {
     "duration": 19.832542,
     "end_time": "2021-11-05T14:05:30.452036",
     "exception": false,
     "start_time": "2021-11-05T14:05:10.619494",
     "status": "completed"
    },
    "tags": []
   },
   "outputs": [
    {
     "data": {
      "text/plain": [
       "<catboost.core.CatBoostRegressor at 0x7f8d6f5a4b50>"
      ]
     },
     "execution_count": 21,
     "metadata": {},
     "output_type": "execute_result"
    }
   ],
   "source": [
    "#Lets first train the data on the training subset and see the model metrics\n",
    "model.fit(x_train_train, y_train_train, silent=True)"
   ]
  },
  {
   "cell_type": "code",
   "execution_count": 22,
   "id": "9e431cb8",
   "metadata": {
    "execution": {
     "iopub.execute_input": "2021-11-05T14:05:30.527253Z",
     "iopub.status.busy": "2021-11-05T14:05:30.526240Z",
     "iopub.status.idle": "2021-11-05T14:05:30.547126Z",
     "shell.execute_reply": "2021-11-05T14:05:30.547808Z",
     "shell.execute_reply.started": "2021-11-05T13:47:15.084904Z"
    },
    "papermill": {
     "duration": 0.060446,
     "end_time": "2021-11-05T14:05:30.548081",
     "exception": false,
     "start_time": "2021-11-05T14:05:30.487635",
     "status": "completed"
    },
    "tags": []
   },
   "outputs": [
    {
     "name": "stdout",
     "output_type": "stream",
     "text": [
      "Testing performance\n",
      "RMSE: 29305.56\n",
      "R2: 0.89\n"
     ]
    }
   ],
   "source": [
    "# The parameters are acceptable, where the RMSE is 29K which is okay for mean price of 180K and median of 163K with std 79K\n",
    "pred = model.predict(x_train_test)\n",
    "rmse = (np.sqrt(mean_squared_error(y_train_test, pred)))\n",
    "r2 = r2_score(y_train_test, pred)\n",
    "print('Testing performance')\n",
    "print('RMSE: {:.2f}'.format(rmse))\n",
    "print('R2: {:.2f}'.format(r2))\n"
   ]
  },
  {
   "cell_type": "code",
   "execution_count": 23,
   "id": "2dcfd786",
   "metadata": {
    "execution": {
     "iopub.execute_input": "2021-11-05T14:05:30.644200Z",
     "iopub.status.busy": "2021-11-05T14:05:30.643280Z",
     "iopub.status.idle": "2021-11-05T14:05:51.338481Z",
     "shell.execute_reply": "2021-11-05T14:05:51.337593Z",
     "shell.execute_reply.started": "2021-11-05T13:51:07.977027Z"
    },
    "papermill": {
     "duration": 20.752256,
     "end_time": "2021-11-05T14:05:51.338629",
     "exception": false,
     "start_time": "2021-11-05T14:05:30.586373",
     "status": "completed"
    },
    "tags": []
   },
   "outputs": [
    {
     "data": {
      "text/plain": [
       "<catboost.core.CatBoostRegressor at 0x7f8d6f5a4b50>"
      ]
     },
     "execution_count": 23,
     "metadata": {},
     "output_type": "execute_result"
    }
   ],
   "source": [
    "# Now we can let the final model learn \n",
    "model.fit(x_train, y_train, silent=True)\n"
   ]
  },
  {
   "cell_type": "code",
   "execution_count": 24,
   "id": "5a5ab8ed",
   "metadata": {
    "execution": {
     "iopub.execute_input": "2021-11-05T14:05:51.430232Z",
     "iopub.status.busy": "2021-11-05T14:05:51.419124Z",
     "iopub.status.idle": "2021-11-05T14:05:51.440681Z",
     "shell.execute_reply": "2021-11-05T14:05:51.440172Z",
     "shell.execute_reply.started": "2021-11-05T13:51:37.330808Z"
    },
    "papermill": {
     "duration": 0.067378,
     "end_time": "2021-11-05T14:05:51.440830",
     "exception": false,
     "start_time": "2021-11-05T14:05:51.373452",
     "status": "completed"
    },
    "tags": []
   },
   "outputs": [],
   "source": [
    "y_test_pred =  model.predict(x_test)"
   ]
  },
  {
   "cell_type": "code",
   "execution_count": 25,
   "id": "9239c0ca",
   "metadata": {
    "execution": {
     "iopub.execute_input": "2021-11-05T14:05:51.518254Z",
     "iopub.status.busy": "2021-11-05T14:05:51.517640Z",
     "iopub.status.idle": "2021-11-05T14:05:51.520862Z",
     "shell.execute_reply": "2021-11-05T14:05:51.521301Z",
     "shell.execute_reply.started": "2021-11-05T13:51:45.159528Z"
    },
    "papermill": {
     "duration": 0.045809,
     "end_time": "2021-11-05T14:05:51.521483",
     "exception": false,
     "start_time": "2021-11-05T14:05:51.475674",
     "status": "completed"
    },
    "tags": []
   },
   "outputs": [
    {
     "data": {
      "text/plain": [
       "array([118570.3730162 , 164850.57332839, 187181.35022493, 196319.40122146,\n",
       "       193695.29378423, 171600.31440006, 175205.04437449, 168099.62227749,\n",
       "       189120.11463287, 126012.86966887])"
      ]
     },
     "execution_count": 25,
     "metadata": {},
     "output_type": "execute_result"
    }
   ],
   "source": [
    "y_test_pred[:10]"
   ]
  },
  {
   "cell_type": "code",
   "execution_count": 26,
   "id": "48931123",
   "metadata": {
    "execution": {
     "iopub.execute_input": "2021-11-05T14:05:51.595457Z",
     "iopub.status.busy": "2021-11-05T14:05:51.594762Z",
     "iopub.status.idle": "2021-11-05T14:05:51.617240Z",
     "shell.execute_reply": "2021-11-05T14:05:51.616773Z",
     "shell.execute_reply.started": "2021-11-05T13:32:52.978532Z"
    },
    "papermill": {
     "duration": 0.060886,
     "end_time": "2021-11-05T14:05:51.617398",
     "exception": false,
     "start_time": "2021-11-05T14:05:51.556512",
     "status": "completed"
    },
    "tags": []
   },
   "outputs": [
    {
     "data": {
      "text/html": [
       "<div>\n",
       "<style scoped>\n",
       "    .dataframe tbody tr th:only-of-type {\n",
       "        vertical-align: middle;\n",
       "    }\n",
       "\n",
       "    .dataframe tbody tr th {\n",
       "        vertical-align: top;\n",
       "    }\n",
       "\n",
       "    .dataframe thead th {\n",
       "        text-align: right;\n",
       "    }\n",
       "</style>\n",
       "<table border=\"1\" class=\"dataframe\">\n",
       "  <thead>\n",
       "    <tr style=\"text-align: right;\">\n",
       "      <th></th>\n",
       "      <th>MSSubClass</th>\n",
       "      <th>MSZoning</th>\n",
       "      <th>LotFrontage</th>\n",
       "      <th>LotArea</th>\n",
       "      <th>Street</th>\n",
       "      <th>Alley</th>\n",
       "      <th>LotShape</th>\n",
       "      <th>LandContour</th>\n",
       "      <th>Utilities</th>\n",
       "      <th>LotConfig</th>\n",
       "      <th>...</th>\n",
       "      <th>ScreenPorch</th>\n",
       "      <th>PoolArea</th>\n",
       "      <th>PoolQC</th>\n",
       "      <th>Fence</th>\n",
       "      <th>MiscFeature</th>\n",
       "      <th>MiscVal</th>\n",
       "      <th>MoSold</th>\n",
       "      <th>YrSold</th>\n",
       "      <th>SaleType</th>\n",
       "      <th>SaleCondition</th>\n",
       "    </tr>\n",
       "  </thead>\n",
       "  <tbody>\n",
       "    <tr>\n",
       "      <th>0</th>\n",
       "      <td>20</td>\n",
       "      <td>RH</td>\n",
       "      <td>80.0</td>\n",
       "      <td>11622</td>\n",
       "      <td>Pave</td>\n",
       "      <td>Null</td>\n",
       "      <td>Reg</td>\n",
       "      <td>Lvl</td>\n",
       "      <td>AllPub</td>\n",
       "      <td>Inside</td>\n",
       "      <td>...</td>\n",
       "      <td>120</td>\n",
       "      <td>0</td>\n",
       "      <td>Null</td>\n",
       "      <td>MnPrv</td>\n",
       "      <td>Null</td>\n",
       "      <td>0</td>\n",
       "      <td>6</td>\n",
       "      <td>2010</td>\n",
       "      <td>WD</td>\n",
       "      <td>Normal</td>\n",
       "    </tr>\n",
       "    <tr>\n",
       "      <th>1</th>\n",
       "      <td>20</td>\n",
       "      <td>RL</td>\n",
       "      <td>81.0</td>\n",
       "      <td>14267</td>\n",
       "      <td>Pave</td>\n",
       "      <td>Null</td>\n",
       "      <td>IR1</td>\n",
       "      <td>Lvl</td>\n",
       "      <td>AllPub</td>\n",
       "      <td>Corner</td>\n",
       "      <td>...</td>\n",
       "      <td>0</td>\n",
       "      <td>0</td>\n",
       "      <td>Null</td>\n",
       "      <td>Null</td>\n",
       "      <td>Gar2</td>\n",
       "      <td>12500</td>\n",
       "      <td>6</td>\n",
       "      <td>2010</td>\n",
       "      <td>WD</td>\n",
       "      <td>Normal</td>\n",
       "    </tr>\n",
       "    <tr>\n",
       "      <th>2</th>\n",
       "      <td>60</td>\n",
       "      <td>RL</td>\n",
       "      <td>74.0</td>\n",
       "      <td>13830</td>\n",
       "      <td>Pave</td>\n",
       "      <td>Null</td>\n",
       "      <td>IR1</td>\n",
       "      <td>Lvl</td>\n",
       "      <td>AllPub</td>\n",
       "      <td>Inside</td>\n",
       "      <td>...</td>\n",
       "      <td>0</td>\n",
       "      <td>0</td>\n",
       "      <td>Null</td>\n",
       "      <td>MnPrv</td>\n",
       "      <td>Null</td>\n",
       "      <td>0</td>\n",
       "      <td>3</td>\n",
       "      <td>2010</td>\n",
       "      <td>WD</td>\n",
       "      <td>Normal</td>\n",
       "    </tr>\n",
       "    <tr>\n",
       "      <th>3</th>\n",
       "      <td>60</td>\n",
       "      <td>RL</td>\n",
       "      <td>78.0</td>\n",
       "      <td>9978</td>\n",
       "      <td>Pave</td>\n",
       "      <td>Null</td>\n",
       "      <td>IR1</td>\n",
       "      <td>Lvl</td>\n",
       "      <td>AllPub</td>\n",
       "      <td>Inside</td>\n",
       "      <td>...</td>\n",
       "      <td>0</td>\n",
       "      <td>0</td>\n",
       "      <td>Null</td>\n",
       "      <td>Null</td>\n",
       "      <td>Null</td>\n",
       "      <td>0</td>\n",
       "      <td>6</td>\n",
       "      <td>2010</td>\n",
       "      <td>WD</td>\n",
       "      <td>Normal</td>\n",
       "    </tr>\n",
       "    <tr>\n",
       "      <th>4</th>\n",
       "      <td>120</td>\n",
       "      <td>RL</td>\n",
       "      <td>43.0</td>\n",
       "      <td>5005</td>\n",
       "      <td>Pave</td>\n",
       "      <td>Null</td>\n",
       "      <td>IR1</td>\n",
       "      <td>HLS</td>\n",
       "      <td>AllPub</td>\n",
       "      <td>Inside</td>\n",
       "      <td>...</td>\n",
       "      <td>144</td>\n",
       "      <td>0</td>\n",
       "      <td>Null</td>\n",
       "      <td>Null</td>\n",
       "      <td>Null</td>\n",
       "      <td>0</td>\n",
       "      <td>1</td>\n",
       "      <td>2010</td>\n",
       "      <td>WD</td>\n",
       "      <td>Normal</td>\n",
       "    </tr>\n",
       "  </tbody>\n",
       "</table>\n",
       "<p>5 rows × 79 columns</p>\n",
       "</div>"
      ],
      "text/plain": [
       "   MSSubClass MSZoning  LotFrontage  LotArea Street Alley LotShape  \\\n",
       "0          20       RH         80.0    11622   Pave  Null      Reg   \n",
       "1          20       RL         81.0    14267   Pave  Null      IR1   \n",
       "2          60       RL         74.0    13830   Pave  Null      IR1   \n",
       "3          60       RL         78.0     9978   Pave  Null      IR1   \n",
       "4         120       RL         43.0     5005   Pave  Null      IR1   \n",
       "\n",
       "  LandContour Utilities LotConfig  ... ScreenPorch PoolArea PoolQC  Fence  \\\n",
       "0         Lvl    AllPub    Inside  ...         120        0   Null  MnPrv   \n",
       "1         Lvl    AllPub    Corner  ...           0        0   Null   Null   \n",
       "2         Lvl    AllPub    Inside  ...           0        0   Null  MnPrv   \n",
       "3         Lvl    AllPub    Inside  ...           0        0   Null   Null   \n",
       "4         HLS    AllPub    Inside  ...         144        0   Null   Null   \n",
       "\n",
       "  MiscFeature MiscVal  MoSold  YrSold  SaleType  SaleCondition  \n",
       "0        Null       0       6    2010        WD         Normal  \n",
       "1        Gar2   12500       6    2010        WD         Normal  \n",
       "2        Null       0       3    2010        WD         Normal  \n",
       "3        Null       0       6    2010        WD         Normal  \n",
       "4        Null       0       1    2010        WD         Normal  \n",
       "\n",
       "[5 rows x 79 columns]"
      ]
     },
     "execution_count": 26,
     "metadata": {},
     "output_type": "execute_result"
    }
   ],
   "source": [
    "x_test.head()"
   ]
  },
  {
   "cell_type": "code",
   "execution_count": 27,
   "id": "beca977f",
   "metadata": {
    "execution": {
     "iopub.execute_input": "2021-11-05T14:05:51.700250Z",
     "iopub.status.busy": "2021-11-05T14:05:51.699342Z",
     "iopub.status.idle": "2021-11-05T14:05:51.703966Z",
     "shell.execute_reply": "2021-11-05T14:05:51.703509Z",
     "shell.execute_reply.started": "2021-11-05T13:51:47.924501Z"
    },
    "papermill": {
     "duration": 0.050922,
     "end_time": "2021-11-05T14:05:51.704111",
     "exception": false,
     "start_time": "2021-11-05T14:05:51.653189",
     "status": "completed"
    },
    "tags": []
   },
   "outputs": [
    {
     "data": {
      "text/html": [
       "<div>\n",
       "<style scoped>\n",
       "    .dataframe tbody tr th:only-of-type {\n",
       "        vertical-align: middle;\n",
       "    }\n",
       "\n",
       "    .dataframe tbody tr th {\n",
       "        vertical-align: top;\n",
       "    }\n",
       "\n",
       "    .dataframe thead th {\n",
       "        text-align: right;\n",
       "    }\n",
       "</style>\n",
       "<table border=\"1\" class=\"dataframe\">\n",
       "  <thead>\n",
       "    <tr style=\"text-align: right;\">\n",
       "      <th></th>\n",
       "      <th>Id</th>\n",
       "      <th>SalePrice</th>\n",
       "    </tr>\n",
       "  </thead>\n",
       "  <tbody>\n",
       "    <tr>\n",
       "      <th>0</th>\n",
       "      <td>1461</td>\n",
       "      <td>118570.373016</td>\n",
       "    </tr>\n",
       "    <tr>\n",
       "      <th>1</th>\n",
       "      <td>1462</td>\n",
       "      <td>164850.573328</td>\n",
       "    </tr>\n",
       "    <tr>\n",
       "      <th>2</th>\n",
       "      <td>1463</td>\n",
       "      <td>187181.350225</td>\n",
       "    </tr>\n",
       "    <tr>\n",
       "      <th>3</th>\n",
       "      <td>1464</td>\n",
       "      <td>196319.401221</td>\n",
       "    </tr>\n",
       "    <tr>\n",
       "      <th>4</th>\n",
       "      <td>1465</td>\n",
       "      <td>193695.293784</td>\n",
       "    </tr>\n",
       "  </tbody>\n",
       "</table>\n",
       "</div>"
      ],
      "text/plain": [
       "     Id      SalePrice\n",
       "0  1461  118570.373016\n",
       "1  1462  164850.573328\n",
       "2  1463  187181.350225\n",
       "3  1464  196319.401221\n",
       "4  1465  193695.293784"
      ]
     },
     "execution_count": 27,
     "metadata": {},
     "output_type": "execute_result"
    }
   ],
   "source": [
    "submission_file = pd.DataFrame({'Id':df_test['Id'],'SalePrice':y_test_pred })\n",
    "submission_file.head()"
   ]
  },
  {
   "cell_type": "code",
   "execution_count": 28,
   "id": "53a0d841",
   "metadata": {
    "execution": {
     "iopub.execute_input": "2021-11-05T14:05:51.781535Z",
     "iopub.status.busy": "2021-11-05T14:05:51.780806Z",
     "iopub.status.idle": "2021-11-05T14:05:51.790079Z",
     "shell.execute_reply": "2021-11-05T14:05:51.789370Z",
     "shell.execute_reply.started": "2021-11-05T14:04:09.751391Z"
    },
    "papermill": {
     "duration": 0.050474,
     "end_time": "2021-11-05T14:05:51.790248",
     "exception": false,
     "start_time": "2021-11-05T14:05:51.739774",
     "status": "completed"
    },
    "tags": []
   },
   "outputs": [],
   "source": [
    "submission_file.to_csv(\"submission.csv\",index = False)\n"
   ]
  },
  {
   "cell_type": "code",
   "execution_count": null,
   "id": "a559a98d",
   "metadata": {
    "papermill": {
     "duration": 0.036287,
     "end_time": "2021-11-05T14:05:51.863544",
     "exception": false,
     "start_time": "2021-11-05T14:05:51.827257",
     "status": "completed"
    },
    "tags": []
   },
   "outputs": [],
   "source": []
  }
 ],
 "metadata": {
  "kernelspec": {
   "display_name": "Python 3",
   "language": "python",
   "name": "python3"
  },
  "language_info": {
   "codemirror_mode": {
    "name": "ipython",
    "version": 3
   },
   "file_extension": ".py",
   "mimetype": "text/x-python",
   "name": "python",
   "nbconvert_exporter": "python",
   "pygments_lexer": "ipython3",
   "version": "3.7.10"
  },
  "papermill": {
   "default_parameters": {},
   "duration": 70.869701,
   "end_time": "2021-11-05T14:05:52.996474",
   "environment_variables": {},
   "exception": null,
   "input_path": "__notebook__.ipynb",
   "output_path": "__notebook__.ipynb",
   "parameters": {},
   "start_time": "2021-11-05T14:04:42.126773",
   "version": "2.3.3"
  }
 },
 "nbformat": 4,
 "nbformat_minor": 5
}
